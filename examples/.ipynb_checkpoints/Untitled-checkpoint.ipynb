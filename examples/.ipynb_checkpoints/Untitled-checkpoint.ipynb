{
 "cells": [
  {
   "cell_type": "code",
   "execution_count": 1,
   "metadata": {},
   "outputs": [],
   "source": [
    "import json\n",
    "\n",
    "from regraph import Neo4jHierarchy, NXGraph, Rule\n",
    "\n",
    "from kami import KamiCorpus, interactions, State, Site, Region, Protein, Protoform, Residue, RegionActor, SiteActor\n",
    "from kami.data_structures.models import KamiContext, NewKamiModel\n",
    "from kami.data_structures.definitions import Product, Definition"
   ]
  },
  {
   "cell_type": "code",
   "execution_count": 2,
   "metadata": {},
   "outputs": [],
   "source": [
    "from regraph import NXGraph, keys_by_value, plot_rule, plot_graph\n",
    "from regraph.category_utils import compose\n",
    "from kami.aggregation.identifiers import EntityIdentifier"
   ]
  },
  {
   "cell_type": "code",
   "execution_count": 3,
   "metadata": {},
   "outputs": [],
   "source": [
    "with open(\"data/egfr_example_corpus.json\", \"rb+\") as f:\n",
    "    data = json.loads(f.read())\n",
    "    corpus = KamiCorpus.from_json(\"egfr\", data)"
   ]
  },
  {
   "cell_type": "code",
   "execution_count": 4,
   "metadata": {},
   "outputs": [],
   "source": [
    "protoform = Protoform(\n",
    "    \"P62993\",\n",
    "    regions=[Region(\n",
    "        name=\"SH2\",\n",
    "        residues=[\n",
    "            Residue(\"S\", 90, test=True),\n",
    "            Residue(\"D\", 90, test=False)])])\n",
    "\n",
    "ashl = Product(\"Ash-L\", residues=[Residue(\"S\", 90)])\n",
    "s90d = Product(\"S90D\", residues=[Residue(\"D\", 90)])\n",
    "grb3 = Product(\"Grb3\", removed_components={\"regions\": [Region(\"SH2\")]})\n",
    "\n",
    "grb2def = Definition(protoform, [ashl, s90d, grb3])"
   ]
  },
  {
   "cell_type": "code",
   "execution_count": 5,
   "metadata": {},
   "outputs": [],
   "source": [
    "protoform = Protoform(\n",
    "    \"P00533\",\n",
    "    regions=[Region(\n",
    "        name=\"EGFR\",\n",
    "        residues=[\n",
    "            Residue(\"S\", 90, test=True),\n",
    "            Residue(\"D\", 90, test=False)])])\n",
    "\n",
    "wt = Product(\"WT\")\n",
    "nopk = Product(\"noPK\", removed_components={\"regions\": [Region(name=\"Protein kinase\", start=712, end=979)]})\n",
    "\n",
    "egfrdef = Definition(protoform, [wt, nopk])"
   ]
  },
  {
   "cell_type": "code",
   "execution_count": 6,
   "metadata": {},
   "outputs": [],
   "source": [
    "context = KamiContext(\n",
    "    seed_protoforms=[\"P00533\", \"P62993\"],\n",
    "    definitions=[grb2def, egfrdef])"
   ]
  },
  {
   "cell_type": "code",
   "execution_count": 7,
   "metadata": {},
   "outputs": [],
   "source": [
    "model = NewKamiModel(\n",
    "    corpus,\n",
    "    context,\n",
    "    \"Test model\",\n",
    "    default_bnd_rate=0.1,\n",
    "    default_brk_rate=0.1,\n",
    "    default_mod_rate=0.1\n",
    ")"
   ]
  },
  {
   "cell_type": "code",
   "execution_count": 8,
   "metadata": {},
   "outputs": [],
   "source": [
    "model.generate_instantiation_rules()"
   ]
  },
  {
   "cell_type": "code",
   "execution_count": 9,
   "metadata": {},
   "outputs": [],
   "source": [
    "rule, instance = model.action_graph_instantiation_rule()"
   ]
  },
  {
   "cell_type": "code",
   "execution_count": 10,
   "metadata": {},
   "outputs": [],
   "source": [
    "rule_hierarchy, lhs_instances = corpus._hierarchy.get_rule_hierarchy(\n",
    "    corpus._action_graph_id, rule, instance=instance)"
   ]
  },
  {
   "cell_type": "code",
   "execution_count": 11,
   "metadata": {},
   "outputs": [],
   "source": [
    "nugget_id = \"egfr_egfr_nugget_3\""
   ]
  },
  {
   "cell_type": "code",
   "execution_count": 12,
   "metadata": {},
   "outputs": [],
   "source": [
    "rule, instance = model.nugget_instantiation_rule(nugget_id)"
   ]
  },
  {
   "cell_type": "code",
   "execution_count": 13,
   "metadata": {},
   "outputs": [
    {
     "name": "stderr",
     "output_type": "stream",
     "text": [
      "/home/raimon/anaconda3/lib/python3.7/site-packages/networkx/drawing/nx_pylab.py:579: MatplotlibDeprecationWarning: \n",
      "The iterable function was deprecated in Matplotlib 3.1 and will be removed in 3.3. Use np.iterable instead.\n",
      "  if not cb.iterable(width):\n",
      "/home/raimon/anaconda3/lib/python3.7/site-packages/networkx/drawing/nx_pylab.py:676: MatplotlibDeprecationWarning: \n",
      "The iterable function was deprecated in Matplotlib 3.1 and will be removed in 3.3. Use np.iterable instead.\n",
      "  if cb.iterable(node_size):  # many node sizes\n"
     ]
    },
    {
     "data": {
      "image/png": "[encoded data removed]",
      "text/plain": [
       "<Figure size 432x288 with 1 Axes>"
      ]
     },
     "metadata": {
      "needs_background": "light"
     },
     "output_type": "display_data"
    },
    {
     "data": {
      "text/plain": [
       "{'P00533': array([ 0.51059838, -1.        ]),\n",
       " 'P00533_site_pY_1087_1097': array([ 0.80374979, -0.53314542]),\n",
       " 'P00533_site_pY_1087_1097_Y1092': array([ 0.22845682, -0.0054488 ]),\n",
       " 'P00533_site_pY_1087_1097_Y1092_phosphorylation': array([0.54421389, 0.46188252]),\n",
       " 'P62993': array([-0.30455397,  0.91782552]),\n",
       " 'P62993_region_SH2_58_152': array([-0.336064  ,  0.29417227]),\n",
       " 'P62993_region_SH2_58_152_S90': array([-0.54034804, -0.30625256]),\n",
       " 'P62993_region_SH2_58_152_D90': array([-0.90605286,  0.17096646])}"
      ]
     },
     "execution_count": 13,
     "metadata": {},
     "output_type": "execute_result"
    }
   ],
   "source": [
    "plot_graph(rule.lhs)"
   ]
  },
  {
   "cell_type": "code",
   "execution_count": 14,
   "metadata": {},
   "outputs": [],
   "source": [
    "def _empty_aa_found(identifier, node):\n",
    "    \"\"\"Test if an empty aa is found.\"\"\"\n",
    "    protoform = identifier.get_protoform_of(node)\n",
    "    residues = identifier.get_attached_residues(\n",
    "        protoform)\n",
    "    deattach = False\n",
    "    for residue in residues:\n",
    "        residue_attrs = identifier.graph.get_node(residue)\n",
    "        if \"aa\" not in residue_attrs or\\\n",
    "                len(residue_attrs[\"aa\"]) == 0:\n",
    "            test = list(residue_attrs[\"test\"])[0]\n",
    "            if test is True:\n",
    "                deattach = True\n",
    "                break\n",
    "    return deattach"
   ]
  },
  {
   "cell_type": "code",
   "execution_count": 23,
   "metadata": {},
   "outputs": [],
   "source": [
    "import networkx as nx\n",
    "import copy"
   ]
  },
  {
   "cell_type": "code",
   "execution_count": 40,
   "metadata": {},
   "outputs": [],
   "source": [
    "def _nugget_clean_up(self, nugget_id, instantiation_rule,\n",
    "                     instantiation_instance):\n",
    "\n",
    "    nugget_typing = self.corpus._hierarchy.get_typing(\n",
    "        nugget_id, self.corpus._action_graph_id)\n",
    "    ag_typing = self.corpus.get_action_graph_typing()\n",
    "    n_meta_typing = {\n",
    "        k: ag_typing[v] for k, v in nugget_typing.items()\n",
    "    }\n",
    "    nugget_graph = self.corpus.get_nugget(nugget_id)\n",
    "\n",
    "    p_identifier = EntityIdentifier(\n",
    "        instantiation_rule.p,\n",
    "        compose(\n",
    "            compose(instantiation_rule.p_lhs, instantiation_instance),\n",
    "            n_meta_typing),\n",
    "        immediate=False)\n",
    "    n = instantiation_rule.p.nodes()\n",
    "    t = compose(\n",
    "        compose(instantiation_rule.p_lhs, instantiation_instance),\n",
    "        n_meta_typing\n",
    "    )\n",
    "\n",
    "    already_detached = []\n",
    "    \n",
    "    new_lhs = NXGraph.copy(instantiation_rule.lhs)\n",
    "    new_p = NXGraph.copy(instantiation_rule.p)\n",
    "    new_p_lhs = copy.deepcopy(instantiation_rule.p_lhs)\n",
    "    \n",
    "    def _detach_edges_incident_to_mod(mod_action):\n",
    "        preds = nugget_graph.predecessors(mod_action)\n",
    "        sucs = nugget_graph.predecessors(mod_action)\n",
    "        for p in preds:\n",
    "            # get nodes from the instantiation p\n",
    "            if p in instantiation_instance.values():\n",
    "                inst_p = keys_by_value(\n",
    "                    instantiation_rule.p_lhs,\n",
    "                    keys_by_value(instantiation_instance, p)[0])\n",
    "                if mod_action not in new_lhs.nodes():\n",
    "                    new_lhs.add_node(mod_action)\n",
    "                if mod_action not in new_p.nodes():\n",
    "                    new_p.add_node(mod_action)\n",
    "                    new_p_lhs[mod_action] = mod_action\n",
    "                for ip in inst_p:\n",
    "                    deattach = _empty_aa_found(p_identifier, ip)\n",
    "                    if not deattach:\n",
    "                        if (instantiation_rule.p_lhs[ip], bnd_action) not in new_lhs.edges():\n",
    "                            new_lhs.add_edge(instantiation_rule.p_lhs[ip], mod_action)\n",
    "                        if (ip, bnd_action) not in new_p.edges():\n",
    "                            new_p.add_edge(ip, mod_action)\n",
    "                        # Find other bonds\n",
    "                        nugget_identifier = EntityIdentifier(\n",
    "                            nugget_graph,\n",
    "                            n_meta_typing,\n",
    "                            immediate=False)\n",
    "                        other_bnds = [\n",
    "                            bnd\n",
    "                            for bnd in nugget_identifier.get_attached_bnd(\n",
    "                                p)\n",
    "                            if bnd != bnd_action\n",
    "                        ]\n",
    "                        for bnd in other_bnds:\n",
    "                            if bnd not in already_detached:\n",
    "                                already_detached.append(bnd)\n",
    "                                _detach_edge_to_bnds(bnd, p)\n",
    "                    else:\n",
    "                        if (instantiation_rule.p_lhs[ip], mod_action) not in new_lhs.edges():\n",
    "                            new_lhs.add_edge(instantiation_rule.p_lhs[ip], mod_action)\n",
    "    \n",
    "    def _detach_edge_to_bnds(bnd_action,\n",
    "                             partner_to_ignore=None):\n",
    "        preds = nugget_graph.predecessors(bnd_action)\n",
    "\n",
    "        for p in preds:\n",
    "            if p != partner_to_ignore:\n",
    "                # get nodes from the instantiation p\n",
    "                if p in instantiation_instance.values():\n",
    "                    inst_p = keys_by_value(\n",
    "                        instantiation_rule.p_lhs,\n",
    "                        keys_by_value(instantiation_instance, p)[0])\n",
    "                    if bnd_action not in new_lhs.nodes():\n",
    "                        new_lhs.add_node(bnd_action)\n",
    "                    if bnd_action not in new_p.nodes():\n",
    "                        new_p.add_node(bnd_action)\n",
    "                        new_p_lhs[bnd_action] = bnd_action\n",
    "                    for ip in inst_p:\n",
    "                        deattach = _empty_aa_found(p_identifier, ip)\n",
    "                        if not deattach:\n",
    "                            if (instantiation_rule.p_lhs[ip], bnd_action) not in new_lhs.edges():\n",
    "                                new_lhs.add_edge(instantiation_rule.p_lhs[ip], bnd_action)\n",
    "                            if (ip, bnd_action) not in new_p.edges():\n",
    "                                new_p.add_edge(ip, bnd_action)\n",
    "                            # Find other bonds\n",
    "                            nugget_identifier = EntityIdentifier(\n",
    "                                nugget_graph,\n",
    "                                n_meta_typing,\n",
    "                                immediate=False)\n",
    "                            other_bnds = [\n",
    "                                bnd\n",
    "                                for bnd in nugget_identifier.get_attached_bnd(\n",
    "                                    p)\n",
    "                                if bnd != bnd_action\n",
    "                            ]\n",
    "                            for bnd in other_bnds:\n",
    "                                if bnd not in already_detached:\n",
    "                                    already_detached.append(bnd)\n",
    "                                    _detach_edge_to_bnds(bnd, p)\n",
    "                        else:\n",
    "                            if (instantiation_rule.p_lhs[ip], bnd_action) not in new_lhs.edges():\n",
    "                                new_lhs.add_edge(instantiation_rule.p_lhs[ip], bnd_action)\n",
    "\n",
    "    if \"mod_template\" in self.corpus._hierarchy.adjacent_relations(nugget_id):\n",
    "        mod_template = self.corpus._hierarchy.get_relation(\n",
    "            \"mod_template\", nugget_id)\n",
    "        action = list(mod_template[\"mod\"])[0]\n",
    "        \n",
    "        # Deattach preds or sucs of action if residue aa is empty\n",
    "        _detach_edges_incident_to_mod(action)\n",
    "        \n",
    "    elif \"bnd_template\" in self.corpus._hierarchy.adjacent_relations(nugget_id):\n",
    "        # Remove edge to a mod/bnd from/to the actor that contains\n",
    "        # a residue with the empty aa\n",
    "        bnd_template = self.corpus._hierarchy.get_relation(\n",
    "            \"bnd_template\", nugget_id)\n",
    "        bnd_actions = bnd_template[\"bnd\"]\n",
    "        # Find a BND node with type == do\n",
    "        action = None\n",
    "        for bnd_action in bnd_actions:\n",
    "            attrs = nugget_graph.get_node(bnd_action)\n",
    "            if list(attrs[\"type\"])[0] == \"do\":\n",
    "                action = bnd_action\n",
    "                break\n",
    "\n",
    "        # Deattach preds of action if residue aa is empty\n",
    "        _detach_edge_to_bnds(action)\n",
    "\n",
    "    # Remove all the graph nodes disconected from\n",
    "    # the action node\n",
    "    nodes_to_remove = new_p.nodes_disconnected_from(action)\n",
    "\n",
    "    # Remove empty residue conditions\n",
    "    for protoform in p_identifier.get_protoforms():\n",
    "        residues = p_identifier.get_attached_residues(protoform)\n",
    "        for res in residues:\n",
    "            residues_attrs = new_p.get_node(res)\n",
    "            if \"aa\" not in residues_attrs or\\\n",
    "                    len(residues_attrs[\"aa\"]) == 0:\n",
    "                nodes_to_remove.add(res)\n",
    "\n",
    "    for n in nodes_to_remove:\n",
    "        new_p.remove_node(n)\n",
    "        del new_p_lhs[n]\n",
    "    return Rule(p=new_p, lhs=new_lhs, p_lhs=new_p_lhs)"
   ]
  },
  {
   "cell_type": "code",
   "execution_count": 41,
   "metadata": {},
   "outputs": [],
   "source": [
    "rule = _nugget_clean_up(model, \"egfr_egfr_nugget_3\", rule, instance)"
   ]
  },
  {
   "cell_type": "code",
   "execution_count": null,
   "metadata": {},
   "outputs": [],
   "source": []
  },
  {
   "cell_type": "code",
   "execution_count": null,
   "metadata": {},
   "outputs": [],
   "source": []
  }
 ],
 "metadata": {
  "kernelspec": {
   "display_name": "Python 3",
   "language": "python",
   "name": "python3"
  },
  "language_info": {
   "codemirror_mode": {
    "name": "ipython",
    "version": 3
   },
   "file_extension": ".py",
   "mimetype": "text/x-python",
   "name": "python",
   "nbconvert_exporter": "python",
   "pygments_lexer": "ipython3",
   "version": "3.7.4"
  }
 },
 "nbformat": 4,
 "nbformat_minor": 2
}
