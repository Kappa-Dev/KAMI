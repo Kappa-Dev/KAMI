{
 "cells": [
  {
   "cell_type": "code",
   "execution_count": 1,
   "metadata": {},
   "outputs": [],
   "source": [
    "import json\n",
    "\n",
    "from regraph import NXGraph, Rule\n",
    "\n",
    "from kami import KamiCorpus, entities, interactions"
   ]
  },
  {
   "cell_type": "code",
   "execution_count": 2,
   "metadata": {},
   "outputs": [],
   "source": [
    "corpus = KamiCorpus(\n",
    "    \"egfr\",\n",
    "    backend=\"neo4j\",\n",
    "    uri=\"bolt://localhost:7687\",\n",
    "    user=\"neo4j\",\n",
    "    password=\"admin\")\n",
    "with open(\"egfr_interactions.json\", \"r+\") as f:\n",
    "    input_interactons = json.load(f)\n",
    "\n",
    "for i in input_interactons:\n",
    "    obj = interactions.Interaction.from_json(i)\n",
    "    corpus.add_interaction(obj\n",
    "\n",
    "corpus.export_json(\"egfr_example_corpus.json\")    "
   ]
  },
  {
   "cell_type": "code",
   "execution_count": 3,
   "metadata": {},
   "outputs": [],
   "source": []
  },
  {
   "cell_type": "code",
   "execution_count": 4,
   "metadata": {},
   "outputs": [],
   "source": []
  },
  {
   "cell_type": "code",
   "execution_count": 6,
   "metadata": {},
   "outputs": [],
   "source": []
  },
  {
   "cell_type": "code",
   "execution_count": null,
   "metadata": {},
   "outputs": [],
   "source": [
    "# Merge some bnd nodes\n",
    "egfr_bindings = corpus.get_bindings(\"P00533\", \"P00533\")\n",
    "corpus.merge_ag_nodes(egfr_bindings)\n",
    "egfr_egf_bindings = corpus.get_bindings(\"P00533\", \"P01133\")\n",
    "corpus.merge_ag_nodes(egfr_egf_bindings)"
   ]
  },
  {
   "cell_type": "code",
   "execution_count": null,
   "metadata": {},
   "outputs": [],
   "source": [
    "protoform = Protoform(\n",
    "    \"P62993\",\n",
    "    regions=[Region(\n",
    "        name=\"SH2\",\n",
    "        residues=[\n",
    "            Residue(\"S\", 90, test=True),\n",
    "            Residue(\"D\", 90, test=False)])])\n",
    "\n",
    "ashl = Product(\"Ash-L\", residues=[Residue(\"S\", 90)])\n",
    "s90d = Product(\"S90D\", residues=[Residue(\"D\", 90)])\n",
    "grb3 = Product(\"Grb3\", removed_components={\"regions\": [Region(\"SH2\")]})\n",
    "\n",
    "self.grb2_definition = Definition(protoform, [ashl, s90d, grb3])\n",
    "\n",
    "self.model = self.corpus.instantiate(\n",
    "    \"EGFR_signalling_GRB2\", [self.grb2_definition],\n",
    "    default_bnd_rate=0.1,\n",
    "    default_brk_rate=0.1,\n",
    "    default_mod_rate=0.1)\n"
   ]
  }
 ],
 "metadata": {
  "kernelspec": {
   "display_name": "Python 3",
   "language": "python",
   "name": "python3"
  },
  "language_info": {
   "codemirror_mode": {
    "name": "ipython",
    "version": 3
   },
   "file_extension": ".py",
   "mimetype": "text/x-python",
   "name": "python",
   "nbconvert_exporter": "python",
   "pygments_lexer": "ipython3",
   "version": "3.7.4"
  }
 },
 "nbformat": 4,
 "nbformat_minor": 2
}
