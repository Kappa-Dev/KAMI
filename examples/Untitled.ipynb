{
 "cells": [
  {
   "cell_type": "code",
   "execution_count": 1,
   "metadata": {},
   "outputs": [],
   "source": [
    "import json\n",
    "\n",
    "from regraph import Neo4jHierarchy, NXGraph, Rule\n",
    "\n",
    "from kami import KamiCorpus, KamiModel, interactions, State, Site, Region, Protein, Protoform, Residue, RegionActor, SiteActor\n",
    "from kami.data_structures.definitions import Product, Definition"
   ]
  },
  {
   "cell_type": "code",
   "execution_count": 2,
   "metadata": {},
   "outputs": [],
   "source": [
    "corpus = KamiCorpus(\n",
    "    \"egfr\",\n",
    "    backend=\"neo4j\",\n",
    "    uri=\"bolt://localhost:7687\",\n",
    "    user=\"neo4j\",\n",
    "    password=\"admin\")"
   ]
  },
  {
   "cell_type": "code",
   "execution_count": 3,
   "metadata": {},
   "outputs": [
    {
     "name": "stdout",
     "output_type": "stream",
     "text": [
      "\n",
      "\n",
      "RELATION TO ADD:  {}\n",
      "\told:  {}\n",
      "\tnew {}\n",
      "\n",
      "\n",
      "\n",
      "\n",
      "\n",
      "RELATION TO ADD:  {}\n",
      "\n",
      "\n",
      "RELATION TO ADD:  {}\n",
      "\told:  {'P62993_region_SH2': {'sh2_domain'}}\n",
      "\tnew {'P62993_region_SH2': {'sh2_domain'}}\n",
      "\n",
      "\n",
      "\n",
      "\n",
      "\n",
      "RELATION TO ADD:  {'P62993_region_SH2': set()}\n",
      "\n",
      "\n",
      "RELATION TO ADD:  {'P62993_region_SH2': set()}\n",
      "\told:  {'region_3_1': {'protein_kinase'}, 'region_3_1_activity': {'protein_kinase_activity'}, 'P62993_region_SH2': {'sh2_domain'}}\n",
      "\tnew {'region_3_1': {'protein_kinase'}, 'region_3_1_activity': {'protein_kinase_activity'}, 'P62993_region_SH2': {'sh2_domain'}}\n",
      "\n",
      "\n",
      "\n",
      "\n",
      "\n",
      "RELATION TO ADD:  {'region_3_1': set(), 'region_3_1_activity': set(), 'P62993_region_SH2': set()}\n",
      "\n",
      "\n",
      "RELATION TO ADD:  {'region_3_1': set(), 'region_3_1_activity': set(), 'P62993_region_SH2': set()}\n",
      "\told:  {'region_3_1': {'protein_kinase'}, 'region_3_1_activity': {'protein_kinase_activity'}, 'P62993_region_SH2': {'sh2_domain'}}\n",
      "\tnew {'region_3_1': {'protein_kinase'}, 'region_3_1_activity': {'protein_kinase_activity'}, 'P62993_region_SH2': {'sh2_domain'}}\n",
      "\n",
      "\n",
      "\n",
      "\n",
      "\n",
      "RELATION TO ADD:  {'region_3_1': set(), 'region_3_1_activity': set(), 'P62993_region_SH2': set()}\n",
      "\n",
      "\n",
      "RELATION TO ADD:  {'region_3_1': set(), 'region_3_1_activity': set(), 'P62993_region_SH2': set()}\n",
      "\told:  {'region_3_1': {'protein_kinase'}, 'region_3_1_activity': {'protein_kinase_activity'}, 'P62993_region_SH2': {'sh2_domain'}}\n",
      "\tnew {'region_3_1': {'protein_kinase'}, 'region_3_1_activity': {'protein_kinase_activity'}, 'P62993_region_SH2': {'sh2_domain'}}\n",
      "\n",
      "\n",
      "\n",
      "\n",
      "\n",
      "RELATION TO ADD:  {'region_3_1': set(), 'region_3_1_activity': set(), 'P62993_region_SH2': set()}\n",
      "\n",
      "\n",
      "RELATION TO ADD:  {'region_3_1': set(), 'region_3_1_activity': set(), 'P62993_region_SH2': set()}\n",
      "\told:  {'region_3_1': {'protein_kinase'}, 'region_3_1_activity': {'protein_kinase_activity'}, 'P62993_region_SH2': {'sh2_domain'}}\n",
      "\tnew {'region_3_1': {'protein_kinase'}, 'region_3_1_activity': {'protein_kinase_activity'}, 'P62993_region_SH2': {'sh2_domain'}}\n",
      "\n",
      "\n",
      "\n",
      "\n",
      "\n",
      "RELATION TO ADD:  {'region_3_1': set(), 'region_3_1_activity': set(), 'P62993_region_SH2': set()}\n",
      "\n",
      "\n",
      "RELATION TO ADD:  {'region_3_1': set(), 'region_3_1_activity': set(), 'P62993_region_SH2': set()}\n"
     ]
    },
    {
     "data": {
      "text/plain": [
       "['egfr_nugget_1']"
      ]
     },
     "execution_count": 3,
     "metadata": {},
     "output_type": "execute_result"
    }
   ],
   "source": [
    "# Create a protoform\n",
    "egfr = Protoform(\"P00533\")\n",
    "grb2 = Protoform(\"P62993\")\n",
    "\n",
    "grb2_sh2_with_residues = RegionActor(\n",
    "    protoform=grb2,\n",
    "    region=Region(\n",
    "        name=\"SH2\",\n",
    "        residues=[\n",
    "            Residue(\"S\", 90, test=True),\n",
    "            Residue(\"D\", 90, test=False)]))\n",
    "\n",
    "egfr_pY = SiteActor(\n",
    "    protoform=egfr,\n",
    "    site=Site(\n",
    "        name=\"pY\",\n",
    "        residues=[Residue(\"Y\", 1092, State(\"phosphorylation\", True))]))\n",
    "\n",
    "interaction2 = interactions.Binding(egfr_pY, grb2_sh2_with_residues)\n",
    "\n",
    "corpus.add_interactions([interaction2])"
   ]
  },
  {
   "cell_type": "code",
   "execution_count": 4,
   "metadata": {},
   "outputs": [],
   "source": [
    "# Create a protein definition for GRB2\n",
    "protoform = Protoform(\n",
    "    \"P62993\",\n",
    "    regions=[Region(\n",
    "        name=\"SH2\",\n",
    "        residues=[\n",
    "            Residue(\"S\", 90, test=True),\n",
    "            Residue(\"D\", 90, test=False)])])\n",
    "\n",
    "ashl = Product(name=\"Ash-L\", residues=[Residue(\"S\", 90)])\n",
    "s90d = Product(name=\"S90D\", residues=[Residue(\"D\", 90)])\n",
    "grb3 = Product(name=\"Grb3\", removed_components={\"regions\": [Region(\"SH2\")]})\n",
    "\n",
    "grb2_definition = Definition(protoform, products=[ashl, s90d, grb3])"
   ]
  },
  {
   "cell_type": "code",
   "execution_count": 5,
   "metadata": {},
   "outputs": [
    {
     "name": "stdout",
     "output_type": "stream",
     "text": [
      "\told:  {'P00533': {'left_partner'}, 'P62993': {'right_partner'}, 'P62993_region_SH2': {'right_partner_region'}, 'P00533_site_pY': {'left_partner_site'}, 'P00533_site_pY_bnd_P62993_region_SH2': {'bnd'}}\n",
      "\tnew {'P62993': {'right_partner'}, 'P62993_region_SH2': {'right_partner_region'}, 'P00533_site_pY_bnd_P62993_region_SH2': {'bnd'}, 'P00533': {'left_partner'}, 'P00533_site_pY': {'left_partner_site'}, 'P629931': {'right_partner'}, 'P629932': {'right_partner'}, 'P62993_region_SH21': {'right_partner_region'}}\n",
      "\n",
      "\n",
      "\n",
      "\n",
      "\n",
      "RELATION TO ADD:  {'P62993': set(), 'P62993_region_SH2': set(), 'P00533_site_pY_bnd_P62993_region_SH2': set(), 'P00533': set(), 'P00533_site_pY': set(), 'P629931': {'right_partner'}, 'P629932': {'right_partner'}, 'P62993_region_SH21': {'right_partner_region'}}\n",
      "MATCH (s:EGFR_signalling_GRB2_egfr_nugget_1 {id: 'P629931'}), (t:bnd_template {id: 'right_partner'}) \n",
      "MERGE (s)-[:relation]->(t)\n",
      "\n",
      "MATCH (s:EGFR_signalling_GRB2_egfr_nugget_1 {id: 'P629932'}), (t:bnd_template {id: 'right_partner'}) \n",
      "MERGE (s)-[:relation]->(t)\n",
      "\n",
      "MATCH (s:EGFR_signalling_GRB2_egfr_nugget_1 {id: 'P62993_region_SH21'}), (t:bnd_template {id: 'right_partner_region'}) \n",
      "MERGE (s)-[:relation]->(t)\n",
      "\n",
      "!!--> {'P00533': {'left_partner'}, 'P629932': {'right_partner'}, 'P629931': {'right_partner'}, 'P62993': {'right_partner'}, 'P62993_region_SH21': {'right_partner_region'}, 'P62993_region_SH2': {'right_partner_region'}, 'P00533_site_pY': {'left_partner_site'}, 'P00533_site_pY_bnd_P62993_region_SH2': {'bnd'}}\n",
      "Nugget nodes:  ['P62993', 'P62993_region_SH2', 'P62993_region_SH2_S90', 'P62993_region_SH2_D90', 'P00533_site_pY_bnd_P62993_region_SH2', 'P00533', 'P00533_site_pY', 'P00533_site_pY_Y1092', 'P00533_site_pY_Y1092_phosphorylation', 'P629931', 'P629932', 'P62993_region_SH2_S901', 'P62993_region_SH2_D901', 'P62993_region_SH21']\n"
     ]
    }
   ],
   "source": [
    "# Instantiate a model for the corpus\n",
    "grb_variants_model = corpus.instantiate(\"EGFR_signalling_GRB2\", [grb2_definition])"
   ]
  },
  {
   "cell_type": "code",
   "execution_count": 6,
   "metadata": {},
   "outputs": [
    {
     "data": {
      "text/plain": [
       "['EGFR_signalling_GRB2_egfr_nugget_1']"
      ]
     },
     "execution_count": 6,
     "metadata": {},
     "output_type": "execute_result"
    }
   ],
   "source": [
    "grb_variants_model.nuggets()"
   ]
  }
 ],
 "metadata": {
  "kernelspec": {
   "display_name": "Python 3",
   "language": "python",
   "name": "python3"
  },
  "language_info": {
   "codemirror_mode": {
    "name": "ipython",
    "version": 3
   },
   "file_extension": ".py",
   "mimetype": "text/x-python",
   "name": "python",
   "nbconvert_exporter": "python",
   "pygments_lexer": "ipython3",
   "version": "3.7.4"
  }
 },
 "nbformat": 4,
 "nbformat_minor": 2
}
