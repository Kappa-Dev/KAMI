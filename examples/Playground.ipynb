{
 "cells": [
  {
   "cell_type": "code",
   "execution_count": 11,
   "metadata": {},
   "outputs": [],
   "source": [
    "import json\n",
    "\n",
    "from regraph import Neo4jHierarchy, NXGraph, Rule\n",
    "\n",
    "from kami import KamiCorpus, KamiModel, interactions, Region, Protein, Protoform, Residue\n",
    "from kami.data_structures.definitions import Product, Definition"
   ]
  },
  {
   "cell_type": "code",
   "execution_count": 12,
   "metadata": {},
   "outputs": [],
   "source": [
    "# corpus = KamiCorpus(\n",
    "#     \"egfr\",\n",
    "#     backend=\"neo4j\",\n",
    "#     uri=\"bolt://localhost:7687\",\n",
    "#     user=\"neo4j\",\n",
    "#     password=\"admin\")\n",
    "\n",
    "# with open(\"egfr_interactions.json\", \"r+\") as f:\n",
    "#     input_interactons = json.load(f)\n",
    "\n",
    "# for i in input_interactons:\n",
    "#     obj = interactions.Interaction.from_json(i)\n",
    "#     corpus.add_interaction(obj)\n",
    "\n",
    "# corpus.export_json(\"egfr_example_corpus.json\")    "
   ]
  },
  {
   "cell_type": "code",
   "execution_count": 13,
   "metadata": {},
   "outputs": [],
   "source": [
    "# h = Neo4jHierarchy(\n",
    "#     uri=\"bolt://localhost:7687\",\n",
    "#     user=\"neo4j\",\n",
    "#     password=\"admin\")\n",
    "# h._clear()\n",
    "corpus = KamiCorpus.load_json(\n",
    "    \"egfr\",\n",
    "    \"egfr_example_corpus.json\",\n",
    "    backend=\"neo4j\",\n",
    "    uri=\"bolt://localhost:7687\",\n",
    "    user=\"neo4j\",\n",
    "    password=\"admin\")"
   ]
  },
  {
   "cell_type": "code",
   "execution_count": 4,
   "metadata": {},
   "outputs": [
    {
     "name": "stdout",
     "output_type": "stream",
     "text": [
      "\n",
      " {'region_3_5_activity': {'protein_kinase_activity'}, 'region_4_3': {'sh2_domain'}, 'mod_1_mod_2_mod_2': {'phospho'}, 'region_2_6_activity': {'protein_kinase_activity'}, 'region_3_5': {'protein_kinase'}, 'region_2_6': {'protein_kinase'}, 'region_3': {'protein_kinase'}, 'region_3_activity': {'protein_kinase_activity'}, 'P00533_site_pY_1087_1097_Y1092_phosphorylation': {'phospho_state'}, 'P00533_site_pY_1087_1097_Y1092': {'phospho_target_residue'}, 'P00533_site_pY_1087_1097': {'pY_site'}, 'P62993_region_SH2_58_152': {'sh2_domain'}, 'mod_1': {'phospho'}, 'mod': {'phospho'}, 'P29353_site_pY_345_355': {'pY_site'}, 'P29353_site_pY_345_355_Y349': {'phospho_target_residue'}, 'P29353_site_pY_345_355_Y349_phosphorylation': {'phospho_state'}, 'region_1_2': {'sh2_domain'}, 'P00533_site_pY_1087_1097_bnd_P62993_region_SH2_58_152_P29353_site_pY_345_355_bnd_P62993_region_SH2': {'sh2_domain_pY_bnd'}, 'P40763_Y705': {'phospho_target_residue'}, 'P40763_Y705_phosphorylation': {'phospho_state'}, 'region_1_3': {'protein_kinase'}, 'region_1_3_activity': {'protein_kinase_activity'}, 'region_2_4': {'sh2_domain'}, 'region_1_4': {'sh2_domain'}, 'O60674_Y1007': {'phospho_target_residue'}, 'O60674_Y1007_phosphorylation': {'phospho_state'}}\n",
      "\n",
      "\n",
      "\n",
      "\n",
      " {'region_3_5_activity': {'protein_kinase_activity'}, 'region_4_3': {'sh2_domain'}, 'mod_1_mod_2_mod_2': {'phospho'}, 'region_2_6_activity': {'protein_kinase_activity'}, 'region_3_5': {'protein_kinase'}, 'region_2_6': {'protein_kinase'}, 'region_3': {'protein_kinase'}, 'region_3_activity': {'protein_kinase_activity'}, 'P00533_site_pY_1087_1097_Y1092_phosphorylation': {'phospho_state'}, 'P00533_site_pY_1087_1097_Y1092': {'phospho_target_residue'}, 'P00533_site_pY_1087_1097': {'pY_site'}, 'P62993_region_SH2_58_152': {'sh2_domain'}, 'mod_1': {'phospho'}, 'mod': {'phospho'}, 'P29353_site_pY_345_355': {'pY_site'}, 'P29353_site_pY_345_355_Y349': {'phospho_target_residue'}, 'P29353_site_pY_345_355_Y349_phosphorylation': {'phospho_state'}, 'region_1_2': {'sh2_domain'}, 'P00533_site_pY_1087_1097_bnd_P62993_region_SH2_58_152_P29353_site_pY_345_355_bnd_P62993_region_SH2': {'sh2_domain_pY_bnd'}, 'P40763_Y705': {'phospho_target_residue'}, 'P40763_Y705_phosphorylation': {'phospho_state'}, 'region_1_3': {'protein_kinase'}, 'region_1_3_activity': {'protein_kinase_activity'}, 'region_2_4': {'sh2_domain'}, 'region_1_4': {'sh2_domain'}, 'O60674_Y1007': {'phospho_target_residue'}, 'O60674_Y1007_phosphorylation': {'phospho_state'}}\n",
      "\n",
      "\n",
      "\n"
     ]
    }
   ],
   "source": [
    "# Merge some bnd nodes\n",
    "egfr_bindings = corpus.get_bindings(\"P00533\", \"P00533\")\n",
    "corpus.merge_ag_nodes(egfr_bindings)\n",
    "egfr_egf_bindings = corpus.get_bindings(\"P00533\", \"P01133\")\n",
    "corpus.merge_ag_nodes(egfr_egf_bindings)"
   ]
  },
  {
   "cell_type": "code",
   "execution_count": 5,
   "metadata": {},
   "outputs": [
    {
     "data": {
      "text/plain": [
       "['egfr_egfr_nugget_10',\n",
       " 'egfr_egfr_nugget_11',\n",
       " 'egfr_egfr_nugget_1',\n",
       " 'egfr_egfr_nugget_2',\n",
       " 'egfr_egfr_nugget_3',\n",
       " 'egfr_egfr_nugget_9',\n",
       " 'egfr_egfr_nugget_4',\n",
       " 'egfr_egfr_nugget_5',\n",
       " 'egfr_egfr_nugget_6',\n",
       " 'egfr_egfr_nugget_7',\n",
       " 'egfr_egfr_nugget_8']"
      ]
     },
     "execution_count": 5,
     "metadata": {},
     "output_type": "execute_result"
    }
   ],
   "source": [
    "corpus.nuggets()"
   ]
  },
  {
   "cell_type": "code",
   "execution_count": 14,
   "metadata": {},
   "outputs": [
    {
     "name": "stdout",
     "output_type": "stream",
     "text": [
      "\n",
      " {'region_1_3': {'enzyme_region'}, 'P12931': {'enzyme'}, 'P29353': {'substrate'}, 'mod': {'mod'}, 'P29353_Y349': {'substrate_residue'}, 'P29353_Y349_phosphorylation': {'mod_state'}}\n",
      "\n",
      "\n",
      "\n",
      "\n",
      " {'O60674': {'substrate'}, 'mod': {'mod'}, 'O60674_activity': {'mod_state'}}\n",
      "\n",
      "\n",
      "\n",
      "\n",
      " {'P01133': {'left_partner'}, 'P00533': {'right_partner'}, 'P01133_bnd_P00533': {'bnd'}}\n",
      "\n",
      "\n",
      "\n",
      "\n",
      " {'P00533': {'left_partner'}, 'P00533_1': {'right_partner'}, 'P00533_bnd_P00533_1': {'bnd'}}\n",
      "\n",
      "\n",
      "\n",
      "New node:  P62993_region_SH2_58_1521  Old node:  P62993_region_SH2_58_152\n",
      "Assigning:  P62993_region_SH2_58_1521 {'right_partner_region'}\n",
      "New node:  P62993_region_SH2_58_152_S901  Old node:  P62993_region_SH2_58_152_S90\n",
      "New node:  P62993_region_SH2_58_152_D901  Old node:  P62993_region_SH2_58_152_D90\n",
      "New node:  P629931  Old node:  P62993\n",
      "Assigning:  P629931 {'right_partner'}\n",
      "New node:  P629932  Old node:  P62993\n",
      "Assigning:  P629932 {'right_partner'}\n",
      "New node:  P62993  Old node:  P62993\n",
      "Assigning:  P62993 {'right_partner'}\n",
      "New node:  P62993_region_SH2_58_152  Old node:  P62993_region_SH2_58_152\n",
      "Assigning:  P62993_region_SH2_58_152 {'right_partner_region'}\n",
      "New node:  P62993_region_SH2_58_152_S90  Old node:  P62993_region_SH2_58_152_S90\n",
      "New node:  P62993_region_SH2_58_152_D90  Old node:  P62993_region_SH2_58_152_D90\n",
      "\n",
      " {'P62993_region_SH2_58_1521': {'right_partner_region'}, 'P629931': {'right_partner'}, 'P629932': {'right_partner'}, 'P00533': {'left_partner'}, 'P00533_site_pY_1087_1097': {'left_partner_site'}, 'P62993': {'right_partner'}, 'P62993_region_SH2_58_152': {'right_partner_region'}, 'P00533_site_pY_1087_1097_bnd_P62993_region_SH2_58_152': {'bnd'}}\n",
      "\n",
      "\n",
      "\n",
      "\n",
      " {'O60674': {'enzyme'}, 'O60674_region_Protein kinase_844_1127': {'enzyme_region'}, 'P40763': {'substrate'}, 'mod': {'mod'}, 'P40763_Y705': {'substrate_residue'}, 'P40763_Y705_phosphorylation': {'mod_state'}}\n",
      "\n",
      "\n",
      "\n",
      "\n",
      " {'P00533': {'left_partner'}, 'P00533_1': {'right_partner'}, 'P00533_bnd_P00533_1': {'bnd'}}\n",
      "\n",
      "\n",
      "\n",
      "\n",
      " {'P00533': {'enzyme'}, 'P00533_region_Protein kinase_712_979': {'enzyme_region'}, 'P00533_1': {'substrate'}, 'mod': {'mod'}, 'P00533_1_Y1092': {'substrate_residue'}, 'P00533_1_Y1092_phosphorylation': {'mod_state'}}\n",
      "\n",
      "\n",
      "\n",
      "New node:  P62993  Old node:  P62993\n",
      "Assigning:  P62993 {'right_partner'}\n",
      "New node:  P62993_region_SH2  Old node:  P62993_region_SH2\n",
      "Assigning:  P62993_region_SH2 {'right_partner_region'}\n",
      "New node:  P62993_region_SH21  Old node:  P62993_region_SH2\n",
      "Assigning:  P62993_region_SH21 {'right_partner_region'}\n",
      "New node:  P629931  Old node:  P62993\n",
      "Assigning:  P629931 {'right_partner'}\n",
      "New node:  P629932  Old node:  P62993\n",
      "Assigning:  P629932 {'right_partner'}\n",
      "\n",
      " {'P29353': {'left_partner'}, 'P29353_site_pY_345_355': {'left_partner_site'}, 'P62993': {'right_partner'}, 'P62993_region_SH2': {'right_partner_region'}, 'P29353_site_pY_345_355_bnd_P62993_region_SH2': {'bnd'}, 'P62993_region_SH21': {'right_partner_region'}, 'P629931': {'right_partner'}, 'P629932': {'right_partner'}}\n",
      "\n",
      "\n",
      "\n",
      "\n",
      " {'P12931': {'enzyme'}, 'P40763': {'substrate'}, 'mod': {'mod'}, 'P40763_Y705': {'substrate_residue'}, 'P40763_Y705_phosphorylation': {'mod_state'}, 'region_1_3': {'enzyme_region'}}\n",
      "\n",
      "\n",
      "\n",
      "\n",
      " {'region_1_3': {'enzyme_region'}, 'O60674_Y1007': {'substrate_residue'}, 'O60674': {'substrate'}, 'O60674_Y1007_phosphorylation': {'mod_state'}, 'mod': {'mod'}, 'P12931': {'enzyme'}}\n",
      "\n",
      "\n",
      "\n",
      "!!--> {'P01133': {'left_partner'}, 'P00533': {'right_partner'}, 'P01133_bnd_P00533': {'bnd'}}\n",
      "!!--> {'P00533': {'left_partner'}, 'P00533_1': {'right_partner'}, 'P00533_bnd_P00533_1': {'bnd'}}\n",
      "!!--> {'P00533': {'left_partner'}, 'P00533_site_pY_1087_1097': {'left_partner_site'}, 'P62993': {'right_partner'}, 'P62993_region_SH2_58_152': {'right_partner_region'}, 'P00533_site_pY_1087_1097_bnd_P62993_region_SH2_58_152': {'bnd'}}\n",
      "\n",
      " {'P00533': {'left_partner'}, 'P00533_site_pY_1087_1097': {'left_partner_site'}, 'P62993': {'right_partner'}, 'P62993_region_SH2_58_152': {'right_partner_region'}, 'P00533_site_pY_1087_1097_bnd_P62993_region_SH2_58_152': {'bnd'}}\n",
      "\n",
      "\n",
      "\n",
      "\n",
      " {'P00533': {'left_partner'}, 'P00533_site_pY_1087_1097': {'left_partner_site'}, 'P62993': {'right_partner'}, 'P62993_region_SH2_58_152': {'right_partner_region'}, 'P00533_site_pY_1087_1097_bnd_P62993_region_SH2_58_152': {'bnd'}}\n",
      "\n",
      "\n",
      "\n",
      "\n",
      " {'P00533': {'left_partner'}, 'P00533_site_pY_1087_1097': {'left_partner_site'}, 'P62993': {'right_partner'}, 'P62993_region_SH2_58_152': {'right_partner_region'}, 'P00533_site_pY_1087_1097_bnd_P62993_region_SH2_58_152': {'bnd'}}\n",
      "\n",
      "\n",
      "\n",
      "\n",
      " {'P00533': {'left_partner'}, 'P00533_site_pY_1087_1097': {'left_partner_site'}, 'P62993': {'right_partner'}, 'P62993_region_SH2_58_152': {'right_partner_region'}, 'P00533_site_pY_1087_1097_bnd_P62993_region_SH2_58_152': {'bnd'}}\n",
      "\n",
      "\n",
      "\n",
      "\n",
      " {'P00533': {'left_partner'}, 'P00533_site_pY_1087_1097': {'left_partner_site'}, 'P62993': {'right_partner'}, 'P62993_region_SH2_58_152': {'right_partner_region'}, 'P00533_site_pY_1087_1097_bnd_P62993_region_SH2_58_152': {'bnd'}}\n",
      "\n",
      "\n",
      "\n",
      "\n",
      " {'P00533': {'left_partner'}, 'P00533_site_pY_1087_1097': {'left_partner_site'}, 'P62993': {'right_partner'}, 'P62993_region_SH2_58_152': {'right_partner_region'}, 'P00533_site_pY_1087_1097_bnd_P62993_region_SH2_58_152': {'bnd'}}\n",
      "\n",
      "\n",
      "\n",
      "!!--> {'P00533': {'left_partner'}, 'P00533_1': {'right_partner'}, 'P00533_bnd_P00533_1': {'bnd'}}\n",
      "!!--> {'P29353': {'left_partner'}, 'P29353_site_pY_345_355': {'left_partner_site'}, 'P62993': {'right_partner'}, 'P62993_region_SH2': {'right_partner_region'}, 'P29353_site_pY_345_355_bnd_P62993_region_SH2': {'bnd'}}\n",
      "\n",
      " {'P29353': {'left_partner'}, 'P29353_site_pY_345_355': {'left_partner_site'}, 'P62993': {'right_partner'}, 'P62993_region_SH2': {'right_partner_region'}, 'P29353_site_pY_345_355_bnd_P62993_region_SH2': {'bnd'}}\n",
      "\n",
      "\n",
      "\n"
     ]
    }
   ],
   "source": [
    "protoform = Protoform(\n",
    "    \"P62993\",\n",
    "    regions=[Region(\n",
    "        name=\"SH2\",\n",
    "        residues=[\n",
    "            Residue(\"S\", 90, test=True),\n",
    "            Residue(\"D\", 90, test=False)])])\n",
    "\n",
    "ashl = Product(\"Ash-L\", residues=[Residue(\"S\", 90)])\n",
    "s90d = Product(\"S90D\", residues=[Residue(\"D\", 90)])\n",
    "grb3 = Product(\"Grb3\", removed_components={\"regions\": [Region(\"SH2\")]})\n",
    "\n",
    "grb2_definition = Definition(protoform, [ashl, s90d, grb3])\n",
    "\n",
    "model = corpus.instantiate(\n",
    "    \"EGFR_signalling_GRB2\", [grb2_definition],\n",
    "    default_bnd_rate=0.1,\n",
    "    default_brk_rate=0.1,\n",
    "    default_mod_rate=0.1)"
   ]
  },
  {
   "cell_type": "code",
   "execution_count": null,
   "metadata": {},
   "outputs": [],
   "source": [
    "model.nuggets()"
   ]
  },
  {
   "cell_type": "code",
   "execution_count": 10,
   "metadata": {},
   "outputs": [
    {
     "name": "stdout",
     "output_type": "stream",
     "text": [
      "EGFR_signalling_GRB2_egfr_egfr_nugget_1\n",
      "{'left_partner': {'P01133'}, 'right_partner': {'P00533'}, 'bnd': {'P01133_bnd_P00533'}}\n",
      "EGFR_signalling_GRB2_egfr_egfr_nugget_2\n",
      "{'left_partner': {'P00533'}, 'right_partner': {'P00533_1'}, 'bnd': {'P00533_bnd_P00533_1'}}\n"
     ]
    },
    {
     "name": "stderr",
     "output_type": "stream",
     "text": [
      "/home/raimon/anaconda3/lib/python3.7/site-packages/kami-1.2-py3.7.egg/kami/exporters/kappa.py:280: KappaGenerationWarning: One of the bound coditions contains binding to a variant dependent agent! Choosing one of them\n",
      "  \"Choosing one of them\", KappaGenerationWarning)\n"
     ]
    },
    {
     "name": "stdout",
     "output_type": "stream",
     "text": [
      "EGFR_signalling_GRB2_egfr_egfr_nugget_3\n",
      "{'left_partner': {'P00533'}, 'left_partner_site': {'P00533_site_pY_1087_1097'}, 'right_partner': {'P62993'}, 'right_partner_region': {'P62993_region_SH2_58_152'}, 'bnd': {'P00533_site_pY_1087_1097_bnd_P62993_region_SH2_58_152'}}\n",
      "EGFR_signalling_GRB2_egfr_egfr_nugget_4\n",
      "{'left_partner': {'P00533'}, 'right_partner': {'P00533_1'}, 'bnd': {'P00533_bnd_P00533_1'}}\n",
      "EGFR_signalling_GRB2_egfr_egfr_nugget_6\n",
      "{'left_partner': {'P29353'}, 'left_partner_site': {'P29353_site_pY_345_355'}, 'right_partner': {'P62993'}, 'right_partner_region': {'P62993_region_SH2'}, 'bnd': {'P29353_site_pY_345_355_bnd_P62993_region_SH2'}}\n",
      "// Automatically generated from the KAMI model 'EGFR_signalling_GRB2' 15-04-2020 19:44:54\n",
      "\n",
      "// Signatures\n",
      "\n",
      "%agent: GRB2(variant{Grb3 Ash_L S90D}, SH2_domain_region)\n",
      "%agent: EGFR(activity{off on}, phosphorylation{off on}, site, site_1, pY_site)\n",
      "%agent: EGF(site)\n",
      "%agent: SHC1(phosphorylation{off on}, pY_site)\n",
      "%agent: SRC(activity{off on})\n",
      "%agent: STAT3(phosphorylation{off on})\n",
      "%agent: JAK2(activity_1{off on}, activity_2{off on}, activity{off on}, phosphorylation{off on})\n",
      "\n",
      "// Rules \n",
      "\n",
      "// SRC phosphorylates SHC \n",
      "'rule 1' SRC(activity{on}), SHC1(phosphorylation{off}) -> SRC(activity{on}), SHC1(phosphorylation{on}) @ 'default_mod_rate' \n",
      "\n",
      "// Activity definition of JAK2 PK \n",
      "'rule 2' JAK2(phosphorylation{on},activity{off}) -> JAK2(phosphorylation{on},activity{on}) @ 'default_mod_rate' \n",
      "\n",
      "// EGF binds EGFR \n",
      "'rule 3' EGF(site[.]), EGFR(site_1[.]) -> EGF(site[1]), EGFR(site_1[1]) @ 'default_bnd_rate' \n",
      "\n",
      "// EGFR homodimerization \n",
      "'rule 4' EGFR(site[.],site_1[2]), EGFR(site[.],site_1[3]), EGF(site[2]), EGF(site[3]) -> EGFR(site[1],site_1[2]), EGFR(site[1],site_1[3]), EGF(site[2]), EGF(site[3]) @ 'default_bnd_rate' \n",
      "\n",
      "// GRB2 binds EGFR pY1092 \n",
      "'rule 5' EGFR(phosphorylation{on},pY_site[.]), GRB2(variant{Ash_L},SH2_domain_region[.]) -> EGFR(phosphorylation{on},pY_site[1]), GRB2(variant{Ash_L},SH2_domain_region[1]) @ 'default_bnd_rate' \n",
      "\n",
      "// JAK2 phosphorylates STAT3 \n",
      "'rule 6' JAK2(activity_1{on}), STAT3(phosphorylation{off}) -> JAK2(activity_1{on}), STAT3(phosphorylation{on}) @ 'default_mod_rate' \n",
      "\n",
      "// EGFR homodimer \n",
      "'rule 7' EGFR(site[.]), EGFR(site[.]) -> EGFR(site[1]), EGFR(site[1]) @ 'default_bnd_rate' \n",
      "\n",
      "// EGFR homodimer phosphorylation \n",
      "'rule 8' EGFR(activity{on},site[1]), EGFR(site[1],phosphorylation{off}) -> EGFR(activity{on},site[1]), EGFR(site[1],phosphorylation{on}) @ 'default_mod_rate' \n",
      "\n",
      "// GRB2 binds SHC1 pY349 \n",
      "'rule 9' SHC1(phosphorylation{on},pY_site[.]), GRB2(variant{Ash_L},SH2_domain_region[.]) -> SHC1(phosphorylation{on},pY_site[1]), GRB2(variant{Ash_L},SH2_domain_region[1]) @ 'default_bnd_rate' \n",
      "\n",
      "// SRC phosphorylates STAT3 \n",
      "'rule 10' SRC(activity{on}), STAT3(phosphorylation{off}) -> SRC(activity{on}), STAT3(phosphorylation{on}) @ 'default_mod_rate' \n",
      "\n",
      "// SRC phosphorylates JAK2 \n",
      "'rule 11' SRC(activity{on}), JAK2(phosphorylation{off}) -> SRC(activity{on}), JAK2(phosphorylation{on}) @ 'default_mod_rate' \n",
      "\n",
      "\n",
      "// variables \n",
      "\n",
      "%var: 'default_bnd_rate' 0.1\n",
      "%var: 'default_brk_rate' 0.1\n",
      "%var: 'default_mod_rate' 0.1\n",
      "\n"
     ]
    }
   ],
   "source": [
    "from kami.exporters.kappa import (ModelKappaGenerator,\n",
    "                                  CorpusKappaGenerator,\n",
    "                                  KappaInitialCondition)\n",
    "\n",
    "g = ModelKappaGenerator(model)\n",
    "k = g.generate()\n",
    "print(k)"
   ]
  },
  {
   "cell_type": "code",
   "execution_count": 7,
   "metadata": {},
   "outputs": [
    {
     "data": {
      "text/plain": [
       "['EGFR_signalling_GRB2_egfr_egfr_nugget_10',\n",
       " 'EGFR_signalling_GRB2_egfr_egfr_nugget_11',\n",
       " 'EGFR_signalling_GRB2_egfr_egfr_nugget_1',\n",
       " 'EGFR_signalling_GRB2_egfr_egfr_nugget_2',\n",
       " 'EGFR_signalling_GRB2_egfr_egfr_nugget_3',\n",
       " 'EGFR_signalling_GRB2_egfr_egfr_nugget_9',\n",
       " 'EGFR_signalling_GRB2_egfr_egfr_nugget_4',\n",
       " 'EGFR_signalling_GRB2_egfr_egfr_nugget_5',\n",
       " 'EGFR_signalling_GRB2_egfr_egfr_nugget_6',\n",
       " 'EGFR_signalling_GRB2_egfr_egfr_nugget_7',\n",
       " 'EGFR_signalling_GRB2_egfr_egfr_nugget_8']"
      ]
     },
     "execution_count": 7,
     "metadata": {},
     "output_type": "execute_result"
    }
   ],
   "source": [
    "model.nuggets()"
   ]
  }
 ],
 "metadata": {
  "kernelspec": {
   "display_name": "Python 3",
   "language": "python",
   "name": "python3"
  },
  "language_info": {
   "codemirror_mode": {
    "name": "ipython",
    "version": 3
   },
   "file_extension": ".py",
   "mimetype": "text/x-python",
   "name": "python",
   "nbconvert_exporter": "python",
   "pygments_lexer": "ipython3",
   "version": "3.7.4"
  }
 },
 "nbformat": 4,
 "nbformat_minor": 2
}
