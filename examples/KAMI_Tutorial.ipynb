{
 "cells": [
  {
   "cell_type": "code",
   "execution_count": 1,
   "metadata": {
    "collapsed": true
   },
   "outputs": [],
   "source": [
    "from regraph import plot_graph\n",
    "\n",
    "from kami import KamiCorpus\n",
    "from kami.data_structures.entities import *\n",
    "from kami.data_structures.interactions import *\n",
    "from kami.data_structures.definitions import *"
   ]
  },
  {
   "cell_type": "code",
   "execution_count": 2,
   "metadata": {
    "collapsed": true
   },
   "outputs": [],
   "source": [
    "# Create an empty KAMI corpus\n",
    "corpus = KamiCorpus(\"EGFR_signalling\")"
   ]
  },
  {
   "cell_type": "code",
   "execution_count": 3,
   "metadata": {},
   "outputs": [],
   "source": [
    "# Create an interaction object\n",
    "egfr = Protoform(\"P00533\")\n",
    "\n",
    "egfr_kinase = RegionActor(\n",
    "    protoform=egfr,\n",
    "    region=Region(\n",
    "        name=\"Protein kinase\",\n",
    "        start=712,\n",
    "        end=979,\n",
    "        states=[State(\"activity\", True)]))\n",
    "\n",
    "interaction1 = LigandModification(\n",
    "    enzyme=egfr_kinase,\n",
    "    substrate=egfr,\n",
    "    target= Residue(\n",
    "        \"Y\", 1092,\n",
    "        state=State(\"phosphorylation\", False)),\n",
    "    value=True,\n",
    "    rate=1,\n",
    "    desc=\"Phosphorylation of EGFR homodimer\")"
   ]
  },
  {
   "cell_type": "code",
   "execution_count": 4,
   "metadata": {},
   "outputs": [
    {
     "data": {
      "text/plain": [
       "{'desc': 'Phosphorylation of EGFR homodimer',\n",
       " 'enzyme': {'data': {'protoform': {'bound_to': [],\n",
       "    'regions': [],\n",
       "    'residues': [],\n",
       "    'sites': [],\n",
       "    'states': [],\n",
       "    'unbound_from': [],\n",
       "    'uniprotid': 'P00533'},\n",
       "   'region': {'bound_to': [],\n",
       "    'end': 979,\n",
       "    'name': 'Protein kinase',\n",
       "    'residues': [],\n",
       "    'sites': [],\n",
       "    'start': 712,\n",
       "    'states': [{'name': 'activity', 'test': True}],\n",
       "    'unbound_from': []}},\n",
       "  'type': 'RegionActor'},\n",
       " 'enzyme_bnd_subactor': 'protoform',\n",
       " 'rate': 1,\n",
       " 'substrate': {'data': {'bound_to': [],\n",
       "   'regions': [],\n",
       "   'residues': [],\n",
       "   'sites': [],\n",
       "   'states': [],\n",
       "   'unbound_from': [],\n",
       "   'uniprotid': 'P00533'},\n",
       "  'type': 'Protoform'},\n",
       " 'substrate_bnd_subactor': 'protoform',\n",
       " 'target': {'data': {'aa': ['Y'],\n",
       "   'loc': 1092,\n",
       "   'state': {'name': 'phosphorylation', 'test': False}},\n",
       "  'type': 'Residue'},\n",
       " 'type': 'LigandModification',\n",
       " 'value': True}"
      ]
     },
     "execution_count": 4,
     "metadata": {},
     "output_type": "execute_result"
    }
   ],
   "source": [
    "interaction1.to_json()"
   ]
  },
  {
   "cell_type": "code",
   "execution_count": 5,
   "metadata": {},
   "outputs": [
    {
     "name": "stderr",
     "output_type": "stream",
     "text": [
      "/home/eugenia/anaconda3/lib/python3.6/site-packages/kami-1.2-py3.6.egg/anatomizer/new_anatomizer.py:283: AnatomizerWarning: Cannot access remote, giving up InterPro update for now.\n",
      "  AnatomizerWarning)\n"
     ]
    },
    {
     "name": "stdout",
     "output_type": "stream",
     "text": [
      "Loading InterPro Data version 66\n"
     ]
    }
   ],
   "source": [
    "# Aggregate the interaction object to the corpus\n",
    "nugget1_id = corpus.add_interaction(interaction1)"
   ]
  },
  {
   "cell_type": "code",
   "execution_count": 6,
   "metadata": {},
   "outputs": [
    {
     "name": "stdout",
     "output_type": "stream",
     "text": [
      "Phosphorylation of EGFR homodimer\n",
      "Nugget nodes: \n",
      "-> 'P00533' - identified as 'P00533_P00533_1' in the AG, typed as 'protoform' in the MM\n",
      "-> 'P00533_region_Protein kinase_712_979' - identified as 'P00533_region_Protein kinase_712_979' in the AG, typed as 'region' in the MM\n",
      "-> 'P00533_region_Protein kinase_712_979_activity' - identified as 'P00533_region_Protein kinase_712_979_activity' in the AG, typed as 'state' in the MM\n",
      "-> 'P00533_1' - identified as 'P00533_P00533_1' in the AG, typed as 'protoform' in the MM\n",
      "-> 'mod' - identified as 'mod' in the AG, typed as 'mod' in the MM\n",
      "-> 'P00533_1_Y1092' - identified as 'P00533_1_Y1092' in the AG, typed as 'residue' in the MM\n",
      "-> 'P00533_1_Y1092_phosphorylation' - identified as 'P00533_1_Y1092_phosphorylation' in the AG, typed as 'state' in the MM\n",
      "-> 'is_bnd' - identified as 'is_bnd' in the AG, typed as 'bnd' in the MM\n"
     ]
    }
   ],
   "source": [
    "# Access the newly created nugget\n",
    "nugget = corpus.get_nugget(nugget1_id)\n",
    "print(corpus.get_nugget_desc(nugget1_id))\n",
    "nugget_identification = corpus.get_nugget_typing(nugget1_id)\n",
    "print(\"Nugget nodes: \")\n",
    "for n in nugget.nodes():\n",
    "    print(\"-> '{}' - identified as '{}' in the AG, typed as '{}' in the MM\".format(\n",
    "        n, nugget_identification[n], corpus.get_action_graph_typing()[nugget_identification[n]]))"
   ]
  },
  {
   "cell_type": "code",
   "execution_count": 7,
   "metadata": {},
   "outputs": [
    {
     "name": "stdout",
     "output_type": "stream",
     "text": [
      "P62993\n"
     ]
    },
    {
     "data": {
      "text/plain": [
       "['P00533_P00533_1', 'P62993']"
      ]
     },
     "execution_count": 7,
     "metadata": {},
     "output_type": "execute_result"
    }
   ],
   "source": [
    "# Manually add a new protoform\n",
    "new_protoform_node = corpus.add_protoform(Protoform(\"P62993\"))\n",
    "print(new_protoform_node)\n",
    "\n",
    "# Access protoforms\n",
    "corpus.protoforms()"
   ]
  },
  {
   "cell_type": "code",
   "execution_count": 8,
   "metadata": {},
   "outputs": [
    {
     "name": "stdout",
     "output_type": "stream",
     "text": [
      "['P62993_site_New site']\n"
     ]
    }
   ],
   "source": [
    "# Manually add a new components to an arbitrary protoform\n",
    "\n",
    "corpus.add_site(Site(\"New site\"), new_protoform_node)\n",
    "print(corpus.get_attached_sites(new_protoform_node))"
   ]
  },
  {
   "cell_type": "code",
   "execution_count": 9,
   "metadata": {
    "collapsed": true
   },
   "outputs": [],
   "source": [
    "grb2 = Protoform(\"P62993\")\n",
    "grb2_sh2 = RegionActor(\n",
    "    protoform=grb2,\n",
    "    region=Region(name=\"SH2\"))\n",
    "\n",
    "shc1 = Protoform(\"P29353\")\n",
    "shc1_pY = SiteActor(\n",
    "    protoform=shc1,\n",
    "    site=Site(\n",
    "        name=\"pY\",\n",
    "        residues=[Residue(\"Y\", 317, State(\"phosphorylation\", True))]))\n",
    "interaction1 = Binding(grb2_sh2, shc1_pY)\n",
    "\n",
    "grb2_sh2_with_residues = RegionActor(\n",
    "    protoform=grb2,\n",
    "    region=Region(\n",
    "        name=\"SH2\",\n",
    "        residues=[\n",
    "            Residue(\"S\", 90, test=True),\n",
    "            Residue(\"D\", 90, test=False)]))\n",
    "\n",
    "egfr_pY = SiteActor(\n",
    "    protoform=egfr,\n",
    "    site=Site(\n",
    "        name=\"pY\",\n",
    "        residues=[Residue(\"Y\", 1092, State(\"phosphorylation\", True))]))\n",
    "\n",
    "interaction2 = Binding(grb2_sh2_with_residues, shc1_pY)"
   ]
  },
  {
   "cell_type": "code",
   "execution_count": 10,
   "metadata": {},
   "outputs": [
    {
     "data": {
      "text/plain": [
       "['EGFR_signalling_nugget_2', 'EGFR_signalling_nugget_3']"
      ]
     },
     "execution_count": 10,
     "metadata": {},
     "output_type": "execute_result"
    }
   ],
   "source": [
    "corpus.add_interactions([interaction1, interaction2])"
   ]
  },
  {
   "cell_type": "code",
   "execution_count": 11,
   "metadata": {},
   "outputs": [],
   "source": [
    "# Create a protein definition for GRB2\n",
    "protoform = Protoform(\n",
    "    \"P62993\",\n",
    "    regions=[Region(\n",
    "        name=\"SH2\",\n",
    "        residues=[\n",
    "            Residue(\"S\", 90, test=True),\n",
    "            Residue(\"D\", 90, test=False)])])\n",
    "\n",
    "ashl = Product(residues=[Residue(\"S\", 90)])\n",
    "s90d = Product(residues=[Residue(\"D\", 90)])\n",
    "grb3 = Product(removed_components={\"regions\": [Region(\"SH2\")]})\n",
    "\n",
    "grb2_definition = Definition(protoform, [ashl, s90d, grb3])"
   ]
  },
  {
   "cell_type": "code",
   "execution_count": 14,
   "metadata": {},
   "outputs": [
    {
     "ename": "KeyError",
     "evalue": "'P62993_region_SH2_D90_P62993_region_SH2_S90'",
     "output_type": "error",
     "traceback": [
      "\u001b[0;31m---------------------------------------------------------------------------\u001b[0m",
      "\u001b[0;31mKeyError\u001b[0m                                  Traceback (most recent call last)",
      "\u001b[0;32m<ipython-input-14-46960f107704>\u001b[0m in \u001b[0;36m<module>\u001b[0;34m()\u001b[0m\n\u001b[0;32m----> 1\u001b[0;31m \u001b[0mgrb2_definition\u001b[0m\u001b[0;34m.\u001b[0m\u001b[0mgenerate_rule\u001b[0m\u001b[0;34m(\u001b[0m\u001b[0mcorpus\u001b[0m\u001b[0;34m.\u001b[0m\u001b[0maction_graph\u001b[0m\u001b[0;34m,\u001b[0m \u001b[0mcorpus\u001b[0m\u001b[0;34m.\u001b[0m\u001b[0mget_action_graph_typing\u001b[0m\u001b[0;34m(\u001b[0m\u001b[0;34m)\u001b[0m\u001b[0;34m)\u001b[0m\u001b[0;34m\u001b[0m\u001b[0;34m\u001b[0m\u001b[0m\n\u001b[0m",
      "\u001b[0;32m~/anaconda3/lib/python3.6/site-packages/kami-1.2-py3.6.egg/kami/data_structures/definitions.py\u001b[0m in \u001b[0;36mgenerate_rule\u001b[0;34m(self, reference_graph, meta_typing)\u001b[0m\n\u001b[1;32m    179\u001b[0m     \u001b[0;32mdef\u001b[0m \u001b[0mgenerate_rule\u001b[0m\u001b[0;34m(\u001b[0m\u001b[0mself\u001b[0m\u001b[0;34m,\u001b[0m \u001b[0mreference_graph\u001b[0m\u001b[0;34m,\u001b[0m \u001b[0mmeta_typing\u001b[0m\u001b[0;34m)\u001b[0m\u001b[0;34m:\u001b[0m\u001b[0;34m\u001b[0m\u001b[0;34m\u001b[0m\u001b[0m\n\u001b[1;32m    180\u001b[0m         protoform_graph, gene_node = self._generate_protoform_graph(\n\u001b[0;32m--> 181\u001b[0;31m             reference_graph, meta_typing)\n\u001b[0m\u001b[1;32m    182\u001b[0m         \u001b[0mproducts_graph\u001b[0m \u001b[0;34m=\u001b[0m \u001b[0mKamiGraph\u001b[0m\u001b[0;34m(\u001b[0m\u001b[0;34m)\u001b[0m\u001b[0;34m\u001b[0m\u001b[0;34m\u001b[0m\u001b[0m\n\u001b[1;32m    183\u001b[0m         \u001b[0mp_lhs\u001b[0m \u001b[0;34m=\u001b[0m \u001b[0;34m{\u001b[0m\u001b[0;34m}\u001b[0m\u001b[0;34m\u001b[0m\u001b[0;34m\u001b[0m\u001b[0m\n",
      "\u001b[0;32m~/anaconda3/lib/python3.6/site-packages/kami-1.2-py3.6.egg/kami/data_structures/definitions.py\u001b[0m in \u001b[0;36m_generate_protoform_graph\u001b[0;34m(self, reference_graph, meta_typing)\u001b[0m\n\u001b[1;32m    164\u001b[0m         \u001b[0;32mif\u001b[0m \u001b[0mgene_node\u001b[0m \u001b[0;32mis\u001b[0m \u001b[0;32mnot\u001b[0m \u001b[0;32mNone\u001b[0m\u001b[0;34m:\u001b[0m\u001b[0;34m\u001b[0m\u001b[0;34m\u001b[0m\u001b[0m\n\u001b[1;32m    165\u001b[0m             \u001b[0;31m# Build protoform graph\u001b[0m\u001b[0;34m\u001b[0m\u001b[0;34m\u001b[0m\u001b[0;34m\u001b[0m\u001b[0m\n\u001b[0;32m--> 166\u001b[0;31m             \u001b[0msubcomponents\u001b[0m \u001b[0;34m=\u001b[0m \u001b[0mentity_identifier\u001b[0m\u001b[0;34m.\u001b[0m\u001b[0msubcomponents\u001b[0m\u001b[0;34m(\u001b[0m\u001b[0mgene_node\u001b[0m\u001b[0;34m)\u001b[0m\u001b[0;34m\u001b[0m\u001b[0;34m\u001b[0m\u001b[0m\n\u001b[0m\u001b[1;32m    167\u001b[0m             \u001b[0;32mfor\u001b[0m \u001b[0mc\u001b[0m \u001b[0;32min\u001b[0m \u001b[0msubcomponents\u001b[0m\u001b[0;34m:\u001b[0m\u001b[0;34m\u001b[0m\u001b[0;34m\u001b[0m\u001b[0m\n\u001b[1;32m    168\u001b[0m                 protoform_graph.add_node(\n",
      "\u001b[0;32m~/anaconda3/lib/python3.6/site-packages/kami-1.2-py3.6.egg/kami/aggregation/identifiers.py\u001b[0m in \u001b[0;36msubcomponents\u001b[0;34m(self, node_id)\u001b[0m\n\u001b[1;32m    427\u001b[0m         \u001b[0mall_predecessors\u001b[0m \u001b[0;34m=\u001b[0m \u001b[0mlist\u001b[0m\u001b[0;34m(\u001b[0m\u001b[0mself\u001b[0m\u001b[0;34m.\u001b[0m\u001b[0mgraph\u001b[0m\u001b[0;34m.\u001b[0m\u001b[0mpredecessors\u001b[0m\u001b[0;34m(\u001b[0m\u001b[0mnode_id\u001b[0m\u001b[0;34m)\u001b[0m\u001b[0;34m)\u001b[0m\u001b[0;34m\u001b[0m\u001b[0;34m\u001b[0m\u001b[0m\n\u001b[1;32m    428\u001b[0m         subcomponents = set([\n\u001b[0;32m--> 429\u001b[0;31m             \u001b[0mp\u001b[0m \u001b[0;32mfor\u001b[0m \u001b[0mp\u001b[0m \u001b[0;32min\u001b[0m \u001b[0mall_predecessors\u001b[0m\u001b[0;34m\u001b[0m\u001b[0;34m\u001b[0m\u001b[0m\n\u001b[0m\u001b[1;32m    430\u001b[0m             \u001b[0;32mif\u001b[0m \u001b[0mself\u001b[0m\u001b[0;34m.\u001b[0m\u001b[0mmeta_typing\u001b[0m\u001b[0;34m[\u001b[0m\u001b[0mp\u001b[0m\u001b[0;34m]\u001b[0m \u001b[0;34m!=\u001b[0m \u001b[0;34m\"mod\"\u001b[0m \u001b[0;32mand\u001b[0m \u001b[0mself\u001b[0m\u001b[0;34m.\u001b[0m\u001b[0mmeta_typing\u001b[0m\u001b[0;34m[\u001b[0m\u001b[0mp\u001b[0m\u001b[0;34m]\u001b[0m \u001b[0;34m!=\u001b[0m \u001b[0;34m\"bnd\"\u001b[0m\u001b[0;34m\u001b[0m\u001b[0;34m\u001b[0m\u001b[0m\n\u001b[1;32m    431\u001b[0m         ] + [node_id])\n",
      "\u001b[0;32m~/anaconda3/lib/python3.6/site-packages/kami-1.2-py3.6.egg/kami/aggregation/identifiers.py\u001b[0m in \u001b[0;36m<listcomp>\u001b[0;34m(.0)\u001b[0m\n\u001b[1;32m    428\u001b[0m         subcomponents = set([\n\u001b[1;32m    429\u001b[0m             \u001b[0mp\u001b[0m \u001b[0;32mfor\u001b[0m \u001b[0mp\u001b[0m \u001b[0;32min\u001b[0m \u001b[0mall_predecessors\u001b[0m\u001b[0;34m\u001b[0m\u001b[0;34m\u001b[0m\u001b[0m\n\u001b[0;32m--> 430\u001b[0;31m             \u001b[0;32mif\u001b[0m \u001b[0mself\u001b[0m\u001b[0;34m.\u001b[0m\u001b[0mmeta_typing\u001b[0m\u001b[0;34m[\u001b[0m\u001b[0mp\u001b[0m\u001b[0;34m]\u001b[0m \u001b[0;34m!=\u001b[0m \u001b[0;34m\"mod\"\u001b[0m \u001b[0;32mand\u001b[0m \u001b[0mself\u001b[0m\u001b[0;34m.\u001b[0m\u001b[0mmeta_typing\u001b[0m\u001b[0;34m[\u001b[0m\u001b[0mp\u001b[0m\u001b[0;34m]\u001b[0m \u001b[0;34m!=\u001b[0m \u001b[0;34m\"bnd\"\u001b[0m\u001b[0;34m\u001b[0m\u001b[0;34m\u001b[0m\u001b[0m\n\u001b[0m\u001b[1;32m    431\u001b[0m         ] + [node_id])\n\u001b[1;32m    432\u001b[0m         \u001b[0mvisited\u001b[0m \u001b[0;34m=\u001b[0m \u001b[0mset\u001b[0m\u001b[0;34m(\u001b[0m\u001b[0;34m)\u001b[0m\u001b[0;34m\u001b[0m\u001b[0;34m\u001b[0m\u001b[0m\n",
      "\u001b[0;31mKeyError\u001b[0m: 'P62993_region_SH2_D90_P62993_region_SH2_S90'"
     ]
    }
   ],
   "source": [
    "grb2_definition.generate_rule(corpus.action_graph, corpus.get_action_graph_typing())"
   ]
  }
 ],
 "metadata": {
  "kernelspec": {
   "display_name": "Python 3",
   "language": "python",
   "name": "python3"
  },
  "language_info": {
   "codemirror_mode": {
    "name": "ipython",
    "version": 3
   },
   "file_extension": ".py",
   "mimetype": "text/x-python",
   "name": "python",
   "nbconvert_exporter": "python",
   "pygments_lexer": "ipython3",
   "version": "3.6.8"
  }
 },
 "nbformat": 4,
 "nbformat_minor": 2
}
