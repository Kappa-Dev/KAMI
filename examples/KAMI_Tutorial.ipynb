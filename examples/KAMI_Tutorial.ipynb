{
 "cells": [
  {
   "cell_type": "markdown",
   "metadata": {},
   "source": [
    "# KAMI Tutorial\n",
    "\n"
   ]
  },
  {
   "cell_type": "markdown",
   "metadata": {},
   "source": [
    "The bio-curation framework KAMI aims to decouple the process of knowledge curation from model building and allows building large signalling models from knowledge. It provides tools for semi-automated aggregation of fragmented knowledge on individual protein-protein interactions (PPIs) into knowledge corpora. These corpora can be used for automatic generation of dynamical rule-based models of cellular signalling in different contexts. \n",
    "\n",
    "KAMI provides a de-contextualize knowledge represenation of PPIs taking part in cellular signalling. Such de-contextualization consists in seeking to represent not the actual interactions occurring between different concrete molecules, but rather the _minimal requirements_ for various interaction mechanisms to be realized. Such minimal requirements vary from purely structural, such as presence or absence of specific protein domains or key residues, to phenomenological, such as activation of proteins or their functional sites.\n",
    "\n",
    "The de-contextualization can be achieved by, first, abstracting from the notion of a protein to the notion of a _protoform_ as the agent of a PPI. A protoform does not represent a concrete molecule, but a set of all product molecules that can be realized from a particular gene (as the result of translation and various PTMs). Therefore, an agent of interaction in KAMI represents _constraints_ on a neighbourhood in the sequence space of a gene (e.g. splice variants and mutants) together with all the combinations of PTMs (e.g. phosphorylation of residues) and phenomenological states (e.g. activity). This implies that KAMI represents knowledge on _potential_ individual PPIs that can be realized (or not) in different cellular contexts and allows KAMI to reuse the same knowledge corpus for generation of models for these different context.\n",
    "\n",
    "Read more about the KAMI framework in this [article](https://www.ncbi.nlm.nih.gov/pubmed/30908261)."
   ]
  },
  {
   "cell_type": "code",
   "execution_count": 1,
   "metadata": {},
   "outputs": [],
   "source": [
    "import json\n",
    "\n",
    "from kami import KamiCorpus\n",
    "from kami.data_structures.entities import (Protoform, Region, Site, Residue,\n",
    "                                           State, Protein, RegionActor, SiteActor)\n",
    "from kami.data_structures.definitions import (Definition, Product)\n",
    "from kami.data_structures.interactions import *"
   ]
  },
  {
   "cell_type": "code",
   "execution_count": 2,
   "metadata": {},
   "outputs": [],
   "source": [
    "from kami.data_structures import entities"
   ]
  },
  {
   "cell_type": "markdown",
   "metadata": {},
   "source": [
    "## Creating a corpus"
   ]
  },
  {
   "cell_type": "markdown",
   "metadata": {},
   "source": [
    "KAMI distinguishes two types of knowledge bodies: a _knowledge corpus_ and a model. Corpora contain de-contextualized knowledge: agents of interactions are protoforms and the regions, residues and states associated to protoforms define feasible set of its variants. Interactions in a corpus represent potential interactions and the necessary conditions for them to occur.\n",
    "\n",
    "A KAMI corpus is a hierarchy of graphs (see [this article](https://arxiv.org/abs/2002.01766) for more details) that contains the following components:\n",
    "\n",
    "- The _meta-model_ graph defines kinds of entities that can exist in a system.\n",
    "- The _action graph_ represents a global roadmap containing the 'anatomy' of protoforms, their states, PTMs and all potential interactions present in the knowledge corpus. Every node of the action graph is typed by a node in the meta-model through a graph homomorphism.\n",
    "- The collection of _nuggets_ encodes rules for potential PPIs, it specifies the necessary conditions for interactions between different protoforms. All the nugget graphs are mapped to the action graph through the collection of homomorphisms. These homomorphisms identify entities and actions represented in different nuggets with entities and interactions in the action graph.\n",
    "- The _semantic action graph_, represents a roadmap containing background knowledge on kinds of conserved protein domains and their generic interaction mechanisms. As in the case of the action graph, every node of the semantic action graph is typed by the meta-model through a homomorphism. The relation between the action graph and the semantic action graph associates entities and actions present in the action graph with their semantics.\n",
    "- The collection of _semantic nuggets_ encodes individual semantic PPI mechanisms of conserved protein regions. All the entities and actions from different semantic nuggets are instances of such in the semantic action graph. The collection of relations associates entities and actions in nuggets to their semantics."
   ]
  },
  {
   "cell_type": "markdown",
   "metadata": {},
   "source": [
    "The following listing shows how a KAMI corpus can be created. KAMI requires corpora to be assigned with an identifier (e.g. 'EGFR_signalling' in the listing below). "
   ]
  },
  {
   "cell_type": "code",
   "execution_count": 3,
   "metadata": {},
   "outputs": [],
   "source": [
    "# Create an empty KAMI corpus based on in-memory graphs\n",
    "corpus = KamiCorpus(\"EGFR_signalling\", backend=\"networkx\")"
   ]
  },
  {
   "cell_type": "markdown",
   "metadata": {},
   "source": [
    "## Adding protein-protein interactions to the corpus"
   ]
  },
  {
   "cell_type": "markdown",
   "metadata": {},
   "source": [
    "KAMI provides two modules for expressing PPIs, their agents and components: `kami.data_structures.entities` and \n",
    "`kami.data_structures.interactions`."
   ]
  },
  {
   "cell_type": "markdown",
   "metadata": {},
   "source": [
    "Consider the Python listing below, it illustrates how the entity and interaction data structures provided by the KAMI library can be used for manual input of PPIs. In addition, it shows how such objects can be serialized and de-serialized to/from the JSON format. The interaction object created in the listing corresponds to the statement:\n",
    "    _'A protein product of EGFR can phosphorylate residue Y1092 of another EGFR molecule through its active kinase domain, when the two molecules are bound'_."
   ]
  },
  {
   "cell_type": "code",
   "execution_count": 4,
   "metadata": {},
   "outputs": [],
   "source": [
    "# Create a protoform\n",
    "egfr = Protoform(\"P00533\")\n",
    "\n",
    "# Create a region actor\n",
    "egfr_kinase = RegionActor(\n",
    "    protoform=egfr,\n",
    "    region=Region(name=\"Protein kinase\", start=712, end=979,\n",
    "                  states=[State(\"activity\", True)]))\n",
    "\n",
    "# Create a ligand modification interaction\n",
    "interaction = LigandModification(\n",
    "    enzyme=egfr_kinase, substrate=egfr,\n",
    "    target= Residue(\"Y\", 1092, state=State(\"phosphorylation\", False)), value=True,\n",
    "    rate=1, desc=\"Phosphorylation of EGFR homodimer\")"
   ]
  },
  {
   "cell_type": "code",
   "execution_count": 5,
   "metadata": {
    "scrolled": true
   },
   "outputs": [
    {
     "name": "stdout",
     "output_type": "stream",
     "text": [
      "{\n",
      " \"type\": \"LigandModification\",\n",
      " \"enzyme\": {\n",
      "  \"data\": {\n",
      "   \"protoform\": {\n",
      "    \"uniprotid\": \"P00533\",\n",
      "    \"regions\": [],\n",
      "    \"sites\": [],\n",
      "    \"residues\": [],\n",
      "    \"states\": [],\n",
      "    \"bound_to\": [],\n",
      "    \"unbound_from\": []\n",
      "   },\n",
      "   \"region\": {\n",
      "    \"name\": \"Protein kinase\",\n",
      "    \"start\": 712,\n",
      "    \"end\": 979,\n",
      "    \"sites\": [],\n",
      "    \"residues\": [],\n",
      "    \"states\": [\n",
      "     {\n",
      "      \"name\": \"activity\",\n",
      "      \"test\": true\n",
      "     }\n",
      "    ],\n",
      "    \"bound_to\": [],\n",
      "    \"unbound_from\": []\n",
      "   }\n",
      "  },\n",
      "  \"type\": \"RegionActor\"\n",
      " },\n",
      " \"substrate\": {\n",
      "  \"data\": {\n",
      "   \"uniprotid\": \"P00533\",\n",
      "   \"regions\": [],\n",
      "   \"sites\": [],\n",
      "   \"residues\": [],\n",
      "   \"states\": [],\n",
      "   \"bound_to\": [],\n",
      "   \"unbound_from\": []\n",
      "  },\n",
      "  \"type\": \"Protoform\"\n",
      " },\n",
      " \"target\": {\n",
      "  \"type\": \"Residue\",\n",
      "  \"data\": {\n",
      "   \"aa\": [\n",
      "    \"Y\"\n",
      "   ],\n",
      "   \"test\": [\n",
      "    true\n",
      "   ],\n",
      "   \"loc\": 1092,\n",
      "   \"state\": {\n",
      "    \"name\": \"phosphorylation\",\n",
      "    \"test\": false\n",
      "   }\n",
      "  }\n",
      " },\n",
      " \"value\": true,\n",
      " \"enzyme_bnd_subactor\": \"protoform\",\n",
      " \"substrate_bnd_subactor\": \"protoform\",\n",
      " \"rate\": 1,\n",
      " \"desc\": \"Phosphorylation of EGFR homodimer\"\n",
      "}\n"
     ]
    }
   ],
   "source": [
    "# Convert interaction to JSON\n",
    "int_json = interaction.to_json()\n",
    "print(json.dumps(int_json, indent=\" \"))\n",
    "\n",
    "# Convert JSON back to interaction\n",
    "copy_interaction = Interaction.from_json(int_json)"
   ]
  },
  {
   "cell_type": "markdown",
   "metadata": {},
   "source": [
    "An interaction object can be added to the corpus using the `add_interaction` method. \n",
    "\n",
    "Provided an individual PPI expressed with an interaction object, KAMI aggregates new knowledge into the underlying corpus in a context-dependent fashion performing the following sequence of steps:\n",
    "- a nugget graph is generated;\n",
    "- entities and actions already present in the action graph are identified in the action graph; \n",
    "- the nugget is added to the corpus and new knowledge is propagated to the action graph;\n",
    "- bookkeeping updates, such as anatomization of new genes, reconnection of spatially nested components, are performed; \n",
    "- updates specific to semantics of the provided PPI are performed. "
   ]
  },
  {
   "cell_type": "code",
   "execution_count": 6,
   "metadata": {},
   "outputs": [],
   "source": [
    "# Add interaction to the corpus\n",
    "new_nugget_id = corpus.add_interaction(interaction)"
   ]
  },
  {
   "cell_type": "markdown",
   "metadata": {},
   "source": [
    "KAMI provides various utils for accessing the components of the corpus, e.g. a nugget graph object, the action graph, identification of entities and actions in the nugget by the action graph, typing of the action graph by the meta-model, etc. In addition, KAMI implements a set of utils for manual addition of new entities and actions to the action graph (independent from the aggregation process)."
   ]
  },
  {
   "cell_type": "code",
   "execution_count": 7,
   "metadata": {},
   "outputs": [
    {
     "name": "stdout",
     "output_type": "stream",
     "text": [
      "Description:  Phosphorylation of EGFR homodimer\n",
      "Nodes of the nugget: \n",
      "\t P00533\n",
      "\t P00533_region_Protein kinase_712_979\n",
      "\t P00533_region_Protein kinase_712_979_activity\n",
      "\t P00533_1\n",
      "\t mod\n",
      "\t P00533_1_Y1092\n",
      "\t P00533_1_Y1092_phosphorylation\n",
      "\t is_bnd\n",
      "Nodes of the action graph: \n",
      "\t P00533_region_Protein kinase_712_979_activity\n",
      "\t is_bnd\n",
      "\t P00533_1_Y1092\n",
      "\t P00533_1_Y1092_phosphorylation\n",
      "\t mod\n",
      "\t P00533_region_Protein kinase_712_979\n",
      "\t P00533_P00533_1\n",
      "\t region_1\n",
      "\t region_2\n",
      "\t region_4\n",
      "\t region_5\n",
      "\n",
      "Identification of nugget nodes: {'P00533': 'P00533_P00533_1', 'P00533_region_Protein kinase_712_979': 'P00533_region_Protein kinase_712_979', 'P00533_region_Protein kinase_712_979_activity': 'P00533_region_Protein kinase_712_979_activity', 'P00533_1': 'P00533_P00533_1', 'mod': 'mod', 'P00533_1_Y1092': 'P00533_1_Y1092', 'P00533_1_Y1092_phosphorylation': 'P00533_1_Y1092_phosphorylation', 'is_bnd': 'is_bnd'}\n",
      "\n",
      "Typing of action graph by the meta-model:  {'P00533_region_Protein kinase_712_979_activity': 'state', 'is_bnd': 'bnd', 'P00533_1_Y1092': 'residue', 'P00533_1_Y1092_phosphorylation': 'state', 'mod': 'mod', 'P00533_region_Protein kinase_712_979': 'region', 'P00533_P00533_1': 'protoform', 'region_1': 'region', 'region_2': 'region', 'region_4': 'region', 'region_5': 'region'}\n",
      "\n",
      "All the protoform nodes in the corpus:\n",
      "\t P00533_P00533_1 {'uniprotid': {'P00533'}, 'hgnc_symbol': {'EGFR'}, 'synonyms': {'ERBB', 'ERBB1', 'HER1'}}\n"
     ]
    }
   ],
   "source": [
    "# Access the newly created nugget graph\n",
    "nugget = corpus.get_nugget(new_nugget_id)\n",
    "print(\"Description: \", corpus.get_nugget_desc(new_nugget_id))\n",
    "print(\"Nodes of the nugget: \")\n",
    "for n in nugget.nodes():\n",
    "    print(\"\\t\", n)\n",
    "\n",
    "# Access the action graph\n",
    "ag = corpus.action_graph\n",
    "print(\"Nodes of the action graph: \")\n",
    "for n in ag.nodes():\n",
    "    print(\"\\t\", n)\n",
    "\n",
    "# Get the identification of nugget nodes in the action graph \n",
    "print(\"\\nIdentification of nugget nodes:\", corpus.get_nugget_typing(new_nugget_id))\n",
    "\n",
    "# Get typing of the action graph by the meta-model\n",
    "print(\"\\nTyping of action graph by the meta-model: \", corpus.get_action_graph_typing())\n",
    "\n",
    "# Get all the protoforms in the corpus\n",
    "print(\"\\nAll the protoform nodes in the corpus:\")\n",
    "for p in corpus.protoforms():\n",
    "    print(\"\\t\", p, corpus.action_graph.get_node(p))\n",
    "\n",
    "# Find a protoform node by the UniProt AC of its gene\n",
    "egfr_protoform_node_id = corpus.get_protoform_by_uniprot(\"P00533\")"
   ]
  },
  {
   "cell_type": "code",
   "execution_count": 8,
   "metadata": {},
   "outputs": [
    {
     "name": "stdout",
     "output_type": "stream",
     "text": [
      "['P62993_site_New site']\n",
      "\n",
      "Updated protoform nodes in the corpus:\n",
      "\t P00533_P00533_1 {'uniprotid': {'P00533'}, 'hgnc_symbol': {'EGFR'}, 'synonyms': {'ERBB', 'ERBB1', 'HER1'}}\n",
      "\t P62993 {'uniprotid': {'P62993'}, 'hgnc_symbol': {'GRB2'}, 'synonyms': {'ASH'}}\n"
     ]
    }
   ],
   "source": [
    "# Manually add a new protoform and its site to the corpus\n",
    "new_protoform_node = corpus.add_protoform(Protoform(\"P62993\"))\n",
    "corpus.add_site(Site(\"New site\"), new_protoform_node)\n",
    "print(corpus.get_attached_sites(new_protoform_node))\n",
    "\n",
    "print(\"\\nUpdated protoform nodes in the corpus:\")\n",
    "for p in corpus.protoforms():\n",
    "    print(\"\\t\", p, corpus.action_graph.get_node(p))"
   ]
  },
  {
   "cell_type": "markdown",
   "metadata": {},
   "source": [
    "The following listing adds to the corpus interaction corresponding to the following statements:\n",
    "    \n",
    "- _'A protein product of SHC1 can bind to the SH2 domain of a GRB2 protein through its site pY having the residue Y317 phosphorylated.'_\n",
    "- _'A protein product of EGFR can bind to the SH2 domain of a GRB2 protein through its site pY having the residue Y1092 phosphorylated. This interaction happens when the SH2 domain of GRB2 has the key residue S90, but not D90.'_"
   ]
  },
  {
   "cell_type": "code",
   "execution_count": 9,
   "metadata": {},
   "outputs": [
    {
     "data": {
      "text/plain": [
       "['EGFR_signalling_nugget_2', 'EGFR_signalling_nugget_3']"
      ]
     },
     "execution_count": 9,
     "metadata": {},
     "output_type": "execute_result"
    }
   ],
   "source": [
    "grb2 = Protoform(\"P62993\")\n",
    "grb2_sh2 = RegionActor(\n",
    "    protoform=grb2,\n",
    "    region=Region(name=\"SH2\"))\n",
    "\n",
    "shc1 = Protoform(\"P29353\")\n",
    "shc1_pY = SiteActor(\n",
    "    protoform=shc1,\n",
    "    site=Site(\n",
    "        name=\"pY\",\n",
    "        residues=[Residue(\"Y\", 317, State(\"phosphorylation\", True))]))\n",
    "interaction1 = Binding(grb2_sh2, shc1_pY)\n",
    "\n",
    "grb2_sh2_with_residues = RegionActor(\n",
    "    protoform=grb2,\n",
    "    region=Region(\n",
    "        name=\"SH2\",\n",
    "        residues=[\n",
    "            Residue(\"S\", 90, test=True),\n",
    "            Residue(\"D\", 90, test=False)]))\n",
    "\n",
    "egfr_pY = SiteActor(\n",
    "    protoform=egfr,\n",
    "    site=Site(\n",
    "        name=\"pY\",\n",
    "        residues=[Residue(\"Y\", 1092, State(\"phosphorylation\", True))]))\n",
    "\n",
    "interaction2 = Binding(egfr_pY, grb2_sh2_with_residues)\n",
    "\n",
    "corpus.add_interactions([interaction1, interaction2])"
   ]
  },
  {
   "cell_type": "markdown",
   "metadata": {},
   "source": [
    "## Importing interactions from BioPAX and INDRA Statements"
   ]
  },
  {
   "cell_type": "markdown",
   "metadata": {},
   "source": [
    "As we have previously mentioned, KAMI provides an importer for PPIs represented using the BioPAX format. The following listing illustrates how KAMI interaction objects can be created from a BioPAX model stored in a `.owl` file."
   ]
  },
  {
   "cell_type": "code",
   "execution_count": 10,
   "metadata": {
    "scrolled": true
   },
   "outputs": [
    {
     "name": "stderr",
     "output_type": "stream",
     "text": [
      "/home/raimon/anaconda3/lib/python3.7/site-packages/JPype1-0.7.2-py3.7-linux-x86_64.egg/jpype/_core.py:217: UserWarning: \n",
      "-------------------------------------------------------------------------------\n",
      "Deprecated: convertStrings was not specified when starting the JVM. The default\n",
      "behavior in JPype will be False starting in JPype 0.8. The recommended setting\n",
      "for new code is convertStrings=False.  The legacy value of True was assumed for\n",
      "this session. If you are a user of an application that reported this warning,\n",
      "please file a ticket with the developer.\n",
      "-------------------------------------------------------------------------------\n",
      "\n",
      "  \"\"\")\n",
      "/home/raimon/anaconda3/lib/python3.7/site-packages/kami-1.2-py3.7.egg/kami/importers/biopax.py:238: UserWarning: Protein reference '[DAG]' does not contain a UniProt ID !\n",
      "  protein_reference.getName()))\n",
      "/home/raimon/anaconda3/lib/python3.7/site-packages/kami-1.2-py3.7.egg/kami/importers/biopax.py:238: UserWarning: Protein reference '[Ca ++]' does not contain a UniProt ID !\n",
      "  protein_reference.getName()))\n",
      "/home/raimon/anaconda3/lib/python3.7/site-packages/kami-1.2-py3.7.egg/kami/importers/biopax.py:238: UserWarning: Protein reference '[ceramide]' does not contain a UniProt ID !\n",
      "  protein_reference.getName()))\n",
      "/home/raimon/anaconda3/lib/python3.7/site-packages/kami-1.2-py3.7.egg/kami/importers/biopax.py:238: UserWarning: Protein reference '[c-Abl-Arg]' does not contain a UniProt ID !\n",
      "  protein_reference.getName()))\n",
      "/home/raimon/anaconda3/lib/python3.7/site-packages/kami-1.2-py3.7.egg/kami/importers/biopax.py:238: UserWarning: Protein reference '[NAD]' does not contain a UniProt ID !\n",
      "  protein_reference.getName()))\n",
      "/home/raimon/anaconda3/lib/python3.7/site-packages/kami-1.2-py3.7.egg/kami/importers/biopax.py:238: UserWarning: Protein reference '[PI-3-4-5-P3]' does not contain a UniProt ID !\n",
      "  protein_reference.getName()))\n",
      "/home/raimon/anaconda3/lib/python3.7/site-packages/kami-1.2-py3.7.egg/kami/importers/biopax.py:238: UserWarning: Protein reference '[Ca2+]' does not contain a UniProt ID !\n",
      "  protein_reference.getName()))\n",
      "/home/raimon/anaconda3/lib/python3.7/site-packages/kami-1.2-py3.7.egg/kami/importers/biopax.py:238: UserWarning: Protein reference '[Digestive enzymes]' does not contain a UniProt ID !\n",
      "  protein_reference.getName()))\n",
      "/home/raimon/anaconda3/lib/python3.7/site-packages/kami-1.2-py3.7.egg/kami/importers/biopax.py:238: UserWarning: Protein reference '[GD3]' does not contain a UniProt ID !\n",
      "  protein_reference.getName()))\n",
      "/home/raimon/anaconda3/lib/python3.7/site-packages/kami-1.2-py3.7.egg/kami/importers/biopax.py:238: UserWarning: Protein reference '[PI-4-5-P2]' does not contain a UniProt ID !\n",
      "  protein_reference.getName()))\n",
      "/home/raimon/anaconda3/lib/python3.7/site-packages/kami-1.2-py3.7.egg/kami/importers/biopax.py:238: UserWarning: Protein reference '[CHEBI:17489, 3',5'-cyclic AMP, Adenosine 3',5'-cyclic phosphate, 3',5'-Cyclic AMP, adenosine 3',5'-(hydrogen phosphate), Cyclic AMP, ADENOSINE-3',5'-CYCLIC-MONOPHOSPHATE, Cyclic adenylic acid, Adenosine 3',5'-phosphate, cAMP, adenosine 3',5'-cyclic monophosphate]' does not contain a UniProt ID !\n",
      "  protein_reference.getName()))\n",
      "/home/raimon/anaconda3/lib/python3.7/site-packages/kami-1.2-py3.7.egg/kami/importers/biopax.py:238: UserWarning: Protein reference '[CHEBI:37550, (2S,3R,4E)-2-amino-4-octadecene-1,3-diol 1-(dihydrogen phosphate), (2-amino-3-hydroxy-octadec-4-enoxy)phosphonic acid, S1P, (2S,3R,4E)-2-amino-3-hydroxyoctadec-4-en-1-yl dihydrogen phosphate, Sphing-4-enine 1-phosphate, Sphingosine 1-phosphic acid, D-erythro-sphingosine 1-phosphate, sphingosine-1-phosphate, C18-Sphingosine 1-phosphate, sphingosine 1-phosphate, Sphingosine 1-phosphate]' does not contain a UniProt ID !\n",
      "  protein_reference.getName()))\n",
      "/home/raimon/anaconda3/lib/python3.7/site-packages/kami-1.2-py3.7.egg/kami/importers/biopax.py:238: UserWarning: Protein reference '[(2E,4E,6E,8E)-3,7-dimethyl-9-(2,6,6-trimethylcyclohex-1-en-1-yl)nona-2,4,6,8-tetraenoic acid, beta-Retinoic acid, all-trans-beta-Retinoic acid, Tretin M, tretinoin, Renova, all-trans-Vitamin A1 acid, all-trans-retinoic acid, all-trans-Retinoic acid, Ro 1-5488, trans-Retinoic acid, Tretinoine (French) (EINECS), AGN 100335, 3,7-Dimethyl-9-(2,6,6-trimethyl-1-cyclohexene-1-yl)-2,4,6,8-nonatetraenoic acid (ECL), all-trans-Tretinoin, all-(E)-Retinoic acid, Vitamin A acid, Acide retinoique (French) (DSL), CHEBI:15367, RETINOIC ACID, Retisol-A, Retin-A, all-trans-Vitamin A acid, (all-E)-3,7-Dimethyl-9-(2,6,6-trimethyl-1-cyclohexen-1-yl)-2,4,6,8-nonatetraenoic acid, Vesanoid, Stieva-A, Retinoic acid]' does not contain a UniProt ID !\n",
      "  protein_reference.getName()))\n",
      "/home/raimon/anaconda3/lib/python3.7/site-packages/kami-1.2-py3.7.egg/kami/importers/biopax.py:238: UserWarning: Protein reference '[1,2-dipalmitoyl-sn-glycerol-3-phosphate, Phosphatidic acid(16:0/16:0), 1,2-dihexadecanoyl-sn-glycerol-3-phosphate, PA(16:0/16:0), 1,2-Dipalmitoyl-sn-glycerol-3-phosphoric acid, PA(32:0), 1,2-Dipalmitoyl-3-sn-phosphatidic acid, Dipalmitoyl phosphatidic acid, (2R)-3-(phosphonooxy)propane-1,2-diyl dihexadecanoate, Phosphatidic acid(32:0)]' does not contain a UniProt ID !\n",
      "  protein_reference.getName()))\n",
      "/home/raimon/anaconda3/lib/python3.7/site-packages/kami-1.2-py3.7.egg/kami/importers/biopax.py:238: UserWarning: Protein reference '[2-Arachidonyl-glycerol, 2-AG, 2-Arachidonoyl-glycerol, 1,3-dihydroxypropan-2-yl (5Z,8Z,11Z,14Z)-icosa-5,8,11,14-tetraenoate, CHEBI:52392, 2-Arachidonoylglycerol, 2-Ara-Gl, 2-(5Z,8Z,11Z,14Z-eicosatetraenoyl)-glycerol, 2-arachidonoylglycerol]' does not contain a UniProt ID !\n",
      "  protein_reference.getName()))\n",
      "/home/raimon/anaconda3/lib/python3.7/site-packages/kami-1.2-py3.7.egg/kami/importers/biopax.py:238: UserWarning: Protein reference '[bis(hydridooxygen)(O--O), HOOH, Hydrogen peroxide, perhydrol, hydrogen peroxide, dioxidane, H2O2, [OH(OH)], dihydrogen(peroxide), Oxydol, HYDROGEN PEROXIDE, dihydrogen peroxide, CHEBI:16240, dihydrogen dioxide]' does not contain a UniProt ID !\n",
      "  protein_reference.getName()))\n",
      "/home/raimon/anaconda3/lib/python3.7/site-packages/kami-1.2-py3.7.egg/kami/importers/biopax.py:238: UserWarning: Protein reference '[PI-5-P]' does not contain a UniProt ID !\n",
      "  protein_reference.getName()))\n",
      "/home/raimon/anaconda3/lib/python3.7/site-packages/kami-1.2-py3.7.egg/kami/importers/biopax.py:238: UserWarning: Protein reference '[Ca++]' does not contain a UniProt ID !\n",
      "  protein_reference.getName()))\n",
      "/home/raimon/anaconda3/lib/python3.7/site-packages/kami-1.2-py3.7.egg/kami/importers/biopax.py:238: UserWarning: Protein reference '[PI-3-4-P2]' does not contain a UniProt ID !\n",
      "  protein_reference.getName()))\n",
      "/home/raimon/anaconda3/lib/python3.7/site-packages/kami-1.2-py3.7.egg/kami/importers/biopax.py:238: UserWarning: Protein reference '[NADPH, NADPH DIHYDRO-NICOTINAMIDE-ADENINE-DINUCLEOTIDE PHOSPHATE, TPNH, dihydronicotinamide-adenine dinucleotide phosphate, 2'-O-phosphonoadenosine 5'-{3-[1-(3-carbamoyl-1,4-dihydropyridin-1-yl)-1,4-anhydro-D-ribitol-5-yl] dihydrogen diphosphate}, reduced nicotinamide-adenine dinucleotide phosphate, Reduced nicotinamide adenine dinucleotide phosphate]' does not contain a UniProt ID !\n",
      "  protein_reference.getName()))\n",
      "/home/raimon/anaconda3/lib/python3.7/site-packages/kami-1.2-py3.7.egg/kami/importers/biopax.py:238: UserWarning: Protein reference '[Halofuginone]' does not contain a UniProt ID !\n",
      "  protein_reference.getName()))\n",
      "/home/raimon/anaconda3/lib/python3.7/site-packages/kami-1.2-py3.7.egg/kami/importers/biopax.py:238: UserWarning: Protein reference '[1-phosphatidyl-1D-myo-inositol 3,4,5-trisphosphate, 1,2-Diacyl-sn-glycero-3-phospho-(1'-myo-inositol-3',4',5'-bisphosphate), 1-O-(3-sn-phosphatidyl)-1D-myo-inositol 3,4,5-tris(dihydrogen phosphate), 1-Phosphatidyl-1D-myo-inositol 3,4,5-trisphosphate, Phosphatidylinositol-3,4,5-trisphosphate, PtsIns(3,4,5)P3, PtsIns-3,4,5-P3, PIP3]' does not contain a UniProt ID !\n",
      "  protein_reference.getName()))\n",
      "/home/raimon/anaconda3/lib/python3.7/site-packages/kami-1.2-py3.7.egg/kami/importers/biopax.py:238: UserWarning: Protein reference '[Serine/Threonine Kinases]' does not contain a UniProt ID !\n",
      "  protein_reference.getName()))\n"
     ]
    },
    {
     "name": "stderr",
     "output_type": "stream",
     "text": [
      "/home/raimon/anaconda3/lib/python3.7/site-packages/kami-1.2-py3.7.egg/kami/importers/biopax.py:238: UserWarning: Protein reference '[Activated DNA]' does not contain a UniProt ID !\n",
      "  protein_reference.getName()))\n",
      "/home/raimon/anaconda3/lib/python3.7/site-packages/kami-1.2-py3.7.egg/kami/importers/biopax.py:295: UserWarning: Ambiguous state (['palmitoylated residue [residue=Y]', 'palmitoylated residue'])! Cannot convert to node\n",
      "  states)\n",
      "/home/raimon/anaconda3/lib/python3.7/site-packages/kami-1.2-py3.7.egg/kami/importers/biopax.py:238: UserWarning: Protein reference '[manganese(II), manganous ion, Mn(II), manganese(II) cation, MANGANESE (II) ION, manganese(2+) ion, manganese(2+), manganese, ion (Mn2+), Mn2+, Mn(2+)]' does not contain a UniProt ID !\n",
      "  protein_reference.getName()))\n",
      "/home/raimon/anaconda3/lib/python3.7/site-packages/kami-1.2-py3.7.egg/kami/importers/biopax.py:238: UserWarning: Protein reference '[[(2R,3R)-5,7-dihydroxy-2-(3,4,5-trihydroxyphenyl)-3,4-dihydro-2H-chromen-3-yl] 3,4,5-trihydroxybenzoate, (-)-epigallocatechin 3-gallate, CHEBI:4806, Epigallocatechin 3-gallate, EGCG, (2R,3R)-5,7-dihydroxy-2-(3,4,5-trihydroxyphenyl)-3,4-dihydro-2H-chromen-3-yl 3,4,5-trihydroxybenzoate, (-)-epigallocatechin-3-O-gallate]' does not contain a UniProt ID !\n",
      "  protein_reference.getName()))\n",
      "/home/raimon/anaconda3/lib/python3.7/site-packages/kami-1.2-py3.7.egg/kami/importers/biopax.py:238: UserWarning: Protein reference '[D-MYO-INOSITOL-1,4,5-TRIPHOSPHATE, 1D-myo-Inositol 1,4,5-trisphosphate, D-myo-Inositol 1,4,5-trisphosphate, 1D-myo-inositol 1,4,5-trisphosphate, InsP3, 1,4,5-Insp3, 1D-myo-inositol 1,4,5-tris(dihydrogen phosphate), Ins(1,4,5)P3, IP3, Inositol 1,4,5-trisphosphate]' does not contain a UniProt ID !\n",
      "  protein_reference.getName()))\n"
     ]
    },
    {
     "data": {
      "text/plain": [
       "['EGFR_signalling_nugget_4',\n",
       " 'EGFR_signalling_nugget_5',\n",
       " 'EGFR_signalling_nugget_6',\n",
       " 'EGFR_signalling_nugget_7',\n",
       " 'EGFR_signalling_nugget_8',\n",
       " 'EGFR_signalling_nugget_9',\n",
       " 'EGFR_signalling_nugget_10',\n",
       " 'EGFR_signalling_nugget_11',\n",
       " 'EGFR_signalling_nugget_12',\n",
       " 'EGFR_signalling_nugget_13']"
      ]
     },
     "execution_count": 10,
     "metadata": {},
     "output_type": "execute_result"
    }
   ],
   "source": [
    "from kami.importers.biopax import BioPaxImporter\n",
    "\n",
    "# Convert BioPax model into KAMI interactions\n",
    "bp_importer = BioPaxImporter()\n",
    "biopax_interactions = bp_importer.import_model(\"data/PathwayCommons11.pid.BIOPAX.owl\")\n",
    "\n",
    "# Add 10 interactions to the corpus\n",
    "corpus.add_interactions(biopax_interactions[:10])"
   ]
  },
  {
   "cell_type": "markdown",
   "metadata": {},
   "source": [
    "Moreover, KAMI allows to convert INDRA statement objects into native entity and interaction objects. In the following listing a text containing a mechanistic description of PPIs is proccessed using INDRA's TRIPS processor into statement objects. These objects are further converted into interactions and added to the corpus."
   ]
  },
  {
   "cell_type": "code",
   "execution_count": null,
   "metadata": {},
   "outputs": [],
   "source": [
    "from indra.sources import trips\n",
    "from kami.importers.indra import IndraImporter\n",
    "\n",
    "\n",
    "text = (\n",
    "    \"MAP2K1 phosphorylates MAPK3 at Thr-202 and Tyr-204;\"\n",
    "    \"ABL1 phosphorylates PLCG1 at Y394.\")\n",
    "\n",
    "# Proccess text using INDRA's TPIS processor\n",
    "trips_processor = trips.process_text(text)\n",
    "# Get INDRA statements\n",
    "statements = trips_processor.statements\n",
    "\n",
    "# Convert statements into KAMI interactions\n",
    "indra_importer = IndraImporter()\n",
    "indra_interactions = indra_importer.import_statements(statements)\n",
    "\n",
    "# Add interactions to the corpus\n",
    "corpus.add_interactions(indra_interactions) "
   ]
  },
  {
   "cell_type": "markdown",
   "metadata": {},
   "source": [
    "## Creating protein definitions and instantiating model"
   ]
  },
  {
   "cell_type": "markdown",
   "metadata": {},
   "source": [
    "KAMI allows the curator to accommodate knowledge about different variants of proteins (for instance, slice variants or mutants)---_protein definitions_. Such protein definitions can be used to specify the 'anatomy' of variants, for example the loss of functional sites or amino acid replacements. Protein definitions are used in the process of instantiation of _concrete signalling models_ from a knowledge corpus. As the result of such instantiation, some of the potential PPIs present in the corpus are not realized."
   ]
  },
  {
   "cell_type": "markdown",
   "metadata": {},
   "source": [
    "KAMI provides the `Definition` data structure for creation of protein definitions. As the input, the constructor of `Definition` takes a protoform object and a list of `Product` objects. The latter objects define which components are removed from the protoform and which amino acids are set to its key residues in particular protein products. The following listing creates the protein definition for GRB2. The created protein definition can be further used to instantiate a concrete signalling model."
   ]
  },
  {
   "cell_type": "code",
   "execution_count": null,
   "metadata": {},
   "outputs": [],
   "source": [
    "# Create a protein definition for GRB2\n",
    "protoform = Protoform(\n",
    "    \"P62993\",\n",
    "    regions=[Region(\n",
    "        name=\"SH2\",\n",
    "        residues=[\n",
    "            Residue(\"S\", 90, test=True),\n",
    "            Residue(\"D\", 90, test=False)])])\n",
    "\n",
    "ashl = Product(name=\"Ash-L\", residues=[Residue(\"S\", 90)])\n",
    "s90d = Product(name=\"S90D\", residues=[Residue(\"D\", 90)])\n",
    "grb3 = Product(name=\"Grb3\", removed_components={\"regions\": [Region(\"SH2\")]})\n",
    "\n",
    "grb2_definition = Definition(protoform, products=[ashl, s90d, grb3])"
   ]
  },
  {
   "cell_type": "markdown",
   "metadata": {},
   "source": [
    "The mechanism of knowledge instantiation allows the curator to _reuse_ a knowledge corpora in different cellular contexts. Such contexts can be specified by a set of protein definitions. "
   ]
  },
  {
   "cell_type": "code",
   "execution_count": null,
   "metadata": {},
   "outputs": [],
   "source": [
    "# Instantiate a model for the corpus\n",
    "grb_variants_model = corpus.instantiate(\"EGFR_signalling_GRB2\", [grb2_definition])"
   ]
  },
  {
   "cell_type": "markdown",
   "metadata": {},
   "source": [
    "## Generating Kappa"
   ]
  },
  {
   "cell_type": "markdown",
   "metadata": {},
   "source": [
    "Instantiated KAMI models can be used to generate scripts written in the rule-based modelling language _Kappa_ (compatible with the version 4 of the Kappa language and its simulator KaSim4). Given an instantiated model, KAMI generates Kappa scripts containing agent signatures, interaction rules and initial conditions. To be used for stochastic simulations, such scripts should be further augmented with observables that specify the patterns of interest (particular agents in some combination of states or bonds) whose quantitative dynamics should be tracked by the Kappa simulator (see kappalanguage.org).\n"
   ]
  },
  {
   "cell_type": "markdown",
   "metadata": {},
   "source": [
    "The module `kami.exporters.kappa` provides a set of utilities for generation of executable Kappa scripts from both instantiated models and knowledge corpora (provided protein definitions for the protoforms present in the corpora). Consider the listing below, it defines initial conditions for protein products of EGFR, GRB2 and SHC1. Such conditions specify the number of molecules for different states of the corresponding proteins in the initial mixture. For example, the listing defines the following initial concentrations of the EGFR products in the mixture:\n",
    "\n",
    "- 150 molecules of the canonical EGFR protein (no PTMs, bounds or activity);\n",
    "- 75 molecules of the EGFR protein with the active kinase domain;\n",
    "- 30 molecules of the EGFR protein with the phosphorylated Y1092;\n",
    "- 30 molecules of the EGFR protein with the phosphorylated Y1092 and bound to the SH2 domain of Ash-L through its pY site;\n",
    "- 30 instances of the EGFR protein dimer (EGFR bound to another EGFR)."
   ]
  },
  {
   "cell_type": "code",
   "execution_count": null,
   "metadata": {},
   "outputs": [],
   "source": [
    "from kami.exporters.kappa import KappaInitialCondition\n",
    "\n",
    "\n",
    "# Initial condition for EGFR\n",
    "egfr_initial = KappaInitialCondition(\n",
    "    canonical_protein=Protein(Protoform(\"P00533\")),\n",
    "    canonical_count=150,\n",
    "    stateful_components=[\n",
    "        (egfr_kinase, 75),\n",
    "        (Residue(\"Y\", 1092, state=State(\"phosphorylation\", True)), 30),\n",
    "        (Site(\n",
    "            name=\"pY\",\n",
    "            residues=[Residue(\"Y\", 1092,\n",
    "                              state=State(\"phosphorylation\", True))],\n",
    "            bound_to=[\n",
    "                RegionActor(\n",
    "                    protoform=grb2, region=Region(name=\"SH2\"),\n",
    "                    variant_name=\"Ash-L\")\n",
    "            ]), 30)\n",
    "    ],\n",
    "    bonds=[\n",
    "        (Protein(Protoform(\"P00533\")), 30),\n",
    "    ])\n",
    "\n",
    "# Initial condition for Ash-L\n",
    "ashl_initial = KappaInitialCondition(\n",
    "    canonical_protein=Protein(Protoform(\"P62993\"), \"Ash-L\"),\n",
    "    canonical_count=200,\n",
    "    stateful_components=[\n",
    "        (Region(name=\"SH2\", bound_to=[shc1_pY]), 40)])\n",
    "\n",
    "# Initial condition for S90D\n",
    "s90d_initial = KappaInitialCondition(\n",
    "    canonical_protein=Protein(Protoform(\"P62993\"), \"S90D\"),\n",
    "    canonical_count=20,\n",
    "    stateful_components=[\n",
    "        (Region(name=\"SH2\", bound_to=[egfr_pY]), 10)])\n",
    "\n",
    "# Initial condition for Grb3\n",
    "grb3_initial = KappaInitialCondition(\n",
    "    canonical_protein=Protein(Protoform(\"P62993\"), \"Grb3\"),\n",
    "    canonical_count=70)\n",
    "\n",
    "# Initial condition for SHC1\n",
    "shc1_initial = KappaInitialCondition(\n",
    "    canonical_protein=Protein(Protoform(\"P29353\")),\n",
    "    canonical_count=100,\n",
    "    stateful_components=[\n",
    "        (Residue(\"Y\", 317, state=State(\"phosphorylation\", True)), 30)])\n",
    "        \n",
    "initial_concentrations = [\n",
    "    egfr_initial,\n",
    "    ashl_initial,\n",
    "    s90d_initial,\n",
    "    grb3_initial,\n",
    "    shc1_initial\n",
    "]"
   ]
  },
  {
   "cell_type": "markdown",
   "metadata": {},
   "source": [
    "The two listings below illustrate how the `ModelKappaGenerator` and `CorpusKappaGenerator` classes can be used to generate Kappa scripts from the previously defined model and corpus respectively. The generation adds initial conditions corresponding to the concentrations defined in the previous listing. The `default_concentation` argument is used to assign default concentration for canonical agents (with no PTMs and bounds) that are not mentioned in the `initial_concentrations` parameter."
   ]
  },
  {
   "cell_type": "code",
   "execution_count": null,
   "metadata": {},
   "outputs": [],
   "source": [
    "from kami.exporters.kappa import ModelKappaGenerator\n",
    "\n",
    "# Create a Kappa generator from a model\n",
    "generator = ModelKappaGenerator(\n",
    "    grb_variants_model)\n",
    "# Generate Kappa with default agent\n",
    "# concentration 75 molecules per agent\n",
    "kappa_str = generator.generate(\n",
    "    initial_concentrations,\n",
    "    default_concentration=75)\n",
    "print(kappa_str)"
   ]
  },
  {
   "cell_type": "code",
   "execution_count": null,
   "metadata": {},
   "outputs": [],
   "source": [
    "from kami.exporters.kappa import CorpusKappaGenerator\n",
    "\n",
    "# Create a Kappa generator from a corpus\n",
    "generator = CorpusKappaGenerator(corpus, [grb2_definition])\n",
    "# Generate Kappa with default agent\n",
    "# concentration 75 molecules per agent\n",
    "kappa_str = generator.generate(\n",
    "    initial_concentrations,\n",
    "    default_concentration=75)\n",
    "print(kappa_str)"
   ]
  },
  {
   "cell_type": "code",
   "execution_count": null,
   "metadata": {},
   "outputs": [],
   "source": []
  }
 ],
 "metadata": {
  "kernelspec": {
   "display_name": "Python 3",
   "language": "python",
   "name": "python3"
  },
  "language_info": {
   "codemirror_mode": {
    "name": "ipython",
    "version": 3
   },
   "file_extension": ".py",
   "mimetype": "text/x-python",
   "name": "python",
   "nbconvert_exporter": "python",
   "pygments_lexer": "ipython3",
   "version": "3.7.4"
  }
 },
 "nbformat": 4,
 "nbformat_minor": 2
}
