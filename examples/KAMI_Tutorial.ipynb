{
 "cells": [
  {
   "cell_type": "code",
   "execution_count": 1,
   "metadata": {},
   "outputs": [],
   "source": [
    "from regraph import plot_graph\n",
    "\n",
    "from kami import KamiCorpus\n",
    "from kami.data_structures.entities import *\n",
    "from kami.data_structures.interactions import *\n",
    "from kami.data_structures.definitions import *\n",
    "from kami.exporters.kappa import generate_kappa, KappaInitialCondition"
   ]
  },
  {
   "cell_type": "code",
   "execution_count": 2,
   "metadata": {},
   "outputs": [],
   "source": [
    "# Create an empty KAMI corpus\n",
    "corpus = KamiCorpus(\"EGFR_signalling\")"
   ]
  },
  {
   "cell_type": "code",
   "execution_count": 3,
   "metadata": {},
   "outputs": [],
   "source": [
    "# Create an interaction object\n",
    "egfr = Protoform(\"P00533\")\n",
    "kinase = Region(\n",
    "    name=\"Protein kinase\",\n",
    "    start=712,\n",
    "    end=979,\n",
    "    states=[State(\"activity\", True)])\n",
    "\n",
    "egfr_kinase = RegionActor(\n",
    "    protoform=egfr,\n",
    "    region=kinase)\n",
    "\n",
    "interaction1 = LigandModification(\n",
    "    enzyme=egfr_kinase,\n",
    "    substrate=egfr,\n",
    "    target= Residue(\n",
    "        \"Y\", 1092,\n",
    "        state=State(\"phosphorylation\", False)),\n",
    "    value=True,\n",
    "    rate=1,\n",
    "    desc=\"Phosphorylation of EGFR homodimer\")"
   ]
  },
  {
   "cell_type": "code",
   "execution_count": 4,
   "metadata": {},
   "outputs": [
    {
     "data": {
      "text/plain": [
       "{'desc': 'Phosphorylation of EGFR homodimer',\n",
       " 'enzyme': {'data': {'protoform': {'bound_to': [],\n",
       "    'regions': [],\n",
       "    'residues': [],\n",
       "    'sites': [],\n",
       "    'states': [],\n",
       "    'unbound_from': [],\n",
       "    'uniprotid': 'P00533'},\n",
       "   'region': {'bound_to': [],\n",
       "    'end': 979,\n",
       "    'name': 'Protein kinase',\n",
       "    'residues': [],\n",
       "    'sites': [],\n",
       "    'start': 712,\n",
       "    'states': [{'name': 'activity', 'test': True}],\n",
       "    'unbound_from': []}},\n",
       "  'type': 'RegionActor'},\n",
       " 'enzyme_bnd_subactor': 'protoform',\n",
       " 'rate': 1,\n",
       " 'substrate': {'data': {'bound_to': [],\n",
       "   'regions': [],\n",
       "   'residues': [],\n",
       "   'sites': [],\n",
       "   'states': [],\n",
       "   'unbound_from': [],\n",
       "   'uniprotid': 'P00533'},\n",
       "  'type': 'Protoform'},\n",
       " 'substrate_bnd_subactor': 'protoform',\n",
       " 'target': {'data': {'aa': ['Y'],\n",
       "   'loc': 1092,\n",
       "   'state': {'name': 'phosphorylation', 'test': False}},\n",
       "  'type': 'Residue'},\n",
       " 'type': 'LigandModification',\n",
       " 'value': True}"
      ]
     },
     "execution_count": 4,
     "metadata": {},
     "output_type": "execute_result"
    }
   ],
   "source": [
    "interaction1.to_json()"
   ]
  },
  {
   "cell_type": "code",
   "execution_count": 5,
   "metadata": {},
   "outputs": [
    {
     "name": "stderr",
     "output_type": "stream",
     "text": [
      "/home/eugenia/anaconda3/lib/python3.6/site-packages/kami-1.2-py3.6.egg/anatomizer/new_anatomizer.py:283: AnatomizerWarning: Cannot access remote, giving up InterPro update for now.\n",
      "  AnatomizerWarning)\n"
     ]
    },
    {
     "name": "stdout",
     "output_type": "stream",
     "text": [
      "Loading InterPro Data version 66\n"
     ]
    }
   ],
   "source": [
    "# Aggregate the interaction object to the corpus\n",
    "nugget1_id = corpus.add_interaction(interaction1)"
   ]
  },
  {
   "cell_type": "code",
   "execution_count": 6,
   "metadata": {},
   "outputs": [
    {
     "name": "stdout",
     "output_type": "stream",
     "text": [
      "Phosphorylation of EGFR homodimer\n",
      "Nugget nodes: \n",
      "-> 'P00533' - identified as 'P00533_P00533_1' in the AG, typed as 'protoform' in the MM\n",
      "-> 'P00533_region_Protein kinase_712_979' - identified as 'P00533_region_Protein kinase_712_979' in the AG, typed as 'region' in the MM\n",
      "-> 'P00533_region_Protein kinase_712_979_activity' - identified as 'P00533_region_Protein kinase_712_979_activity' in the AG, typed as 'state' in the MM\n",
      "-> 'P00533_1' - identified as 'P00533_P00533_1' in the AG, typed as 'protoform' in the MM\n",
      "-> 'mod' - identified as 'mod' in the AG, typed as 'mod' in the MM\n",
      "-> 'P00533_1_Y1092' - identified as 'P00533_1_Y1092' in the AG, typed as 'residue' in the MM\n",
      "-> 'P00533_1_Y1092_phosphorylation' - identified as 'P00533_1_Y1092_phosphorylation' in the AG, typed as 'state' in the MM\n",
      "-> 'is_bnd' - identified as 'is_bnd' in the AG, typed as 'bnd' in the MM\n"
     ]
    }
   ],
   "source": [
    "# Access the newly created nugget\n",
    "nugget = corpus.get_nugget(nugget1_id)\n",
    "print(corpus.get_nugget_desc(nugget1_id))\n",
    "nugget_identification = corpus.get_nugget_typing(nugget1_id)\n",
    "print(\"Nugget nodes: \")\n",
    "for n in nugget.nodes():\n",
    "    print(\"-> '{}' - identified as '{}' in the AG, typed as '{}' in the MM\".format(\n",
    "        n, nugget_identification[n], corpus.get_action_graph_typing()[nugget_identification[n]]))"
   ]
  },
  {
   "cell_type": "code",
   "execution_count": 7,
   "metadata": {},
   "outputs": [
    {
     "name": "stdout",
     "output_type": "stream",
     "text": [
      "P62993\n"
     ]
    },
    {
     "data": {
      "text/plain": [
       "['P00533_P00533_1', 'P62993']"
      ]
     },
     "execution_count": 7,
     "metadata": {},
     "output_type": "execute_result"
    }
   ],
   "source": [
    "# Manually add a new protoform\n",
    "new_protoform_node = corpus.add_protoform(Protoform(\"P62993\"))\n",
    "print(new_protoform_node)\n",
    "\n",
    "# Access protoforms\n",
    "corpus.protoforms()"
   ]
  },
  {
   "cell_type": "code",
   "execution_count": 8,
   "metadata": {},
   "outputs": [
    {
     "name": "stdout",
     "output_type": "stream",
     "text": [
      "['P62993_site_New site']\n"
     ]
    }
   ],
   "source": [
    "# Manually add a new components to an arbitrary protoform\n",
    "\n",
    "corpus.add_site(Site(\"New site\"), new_protoform_node)\n",
    "print(corpus.get_attached_sites(new_protoform_node))"
   ]
  },
  {
   "cell_type": "code",
   "execution_count": 9,
   "metadata": {
    "collapsed": true
   },
   "outputs": [],
   "source": [
    "grb2 = Protoform(\"P62993\")\n",
    "grb2_sh2 = RegionActor(\n",
    "    protoform=grb2,\n",
    "    region=Region(name=\"SH2\"))\n",
    "\n",
    "shc1 = Protoform(\"P29353\")\n",
    "shc1_pY = SiteActor(\n",
    "    protoform=shc1,\n",
    "    site=Site(\n",
    "        name=\"pY\",\n",
    "        residues=[Residue(\"Y\", 317, State(\"phosphorylation\", True))]))\n",
    "interaction1 = Binding(grb2_sh2, shc1_pY)\n",
    "\n",
    "grb2_sh2_with_residues = RegionActor(\n",
    "    protoform=grb2,\n",
    "    region=Region(\n",
    "        name=\"SH2\",\n",
    "        residues=[\n",
    "            Residue(\"S\", 90, test=True),\n",
    "            Residue(\"D\", 90, test=False)]))\n",
    "\n",
    "egfr_pY = SiteActor(\n",
    "    protoform=egfr,\n",
    "    site=Site(\n",
    "        name=\"pY\",\n",
    "        residues=[Residue(\"Y\", 1092, State(\"phosphorylation\", True))]))\n",
    "\n",
    "interaction2 = Binding(grb2_sh2_with_residues, shc1_pY)"
   ]
  },
  {
   "cell_type": "code",
   "execution_count": 10,
   "metadata": {},
   "outputs": [
    {
     "data": {
      "text/plain": [
       "['EGFR_signalling_nugget_2', 'EGFR_signalling_nugget_3']"
      ]
     },
     "execution_count": 10,
     "metadata": {},
     "output_type": "execute_result"
    }
   ],
   "source": [
    "corpus.add_interactions([interaction1, interaction2])"
   ]
  },
  {
   "cell_type": "code",
   "execution_count": 11,
   "metadata": {},
   "outputs": [
    {
     "data": {
      "text/plain": [
       "['P00533_region_Protein kinase_712_979_activity']"
      ]
     },
     "execution_count": 11,
     "metadata": {},
     "output_type": "execute_result"
    }
   ],
   "source": [
    "corpus.get_attached_states('P00533_region_Protein kinase_712_979')"
   ]
  },
  {
   "cell_type": "code",
   "execution_count": 14,
   "metadata": {},
   "outputs": [],
   "source": [
    "# Create a protein definition for GRB2\n",
    "protoform = Protoform(\n",
    "    \"P62993\",\n",
    "    regions=[Region(\n",
    "        name=\"SH2\",\n",
    "        residues=[\n",
    "            Residue(\"S\", 90, test=True),\n",
    "            Residue(\"D\", 90, test=False)])])\n",
    "\n",
    "ashl = Product(\"Ash-L\", residues=[Residue(\"S\", 90)])\n",
    "s90d = Product(\"S90D\", residues=[Residue(\"D\", 90)])\n",
    "grb3 = Product(\"Grb3\", removed_components={\"regions\": [Region(\"SH2\")]})\n",
    "\n",
    "grb2_definition = Definition(protoform, [ashl, s90d, grb3])"
   ]
  },
  {
   "cell_type": "code",
   "execution_count": 15,
   "metadata": {},
   "outputs": [],
   "source": [
    "rule, instance = grb2_definition.generate_rule(corpus.action_graph, corpus.get_action_graph_typing())"
   ]
  },
  {
   "cell_type": "code",
   "execution_count": 16,
   "metadata": {},
   "outputs": [],
   "source": [
    "grb_variants_model = corpus.instantiate(\"EGFR_signalling_GRB2\", [grb2_definition])"
   ]
  },
  {
   "cell_type": "code",
   "execution_count": 18,
   "metadata": {},
   "outputs": [],
   "source": [
    "# The following initial condition specifies:\n",
    "# 150 molecules of the canonical EGFR protein (no PTMs, bounds or activity)\n",
    "# 75 molecules of the EGFR protein with active kinase\n",
    "# 30 molecules of the EGFR protein with phosphorylated Y1092\n",
    "# 30 molecules of the EGFR protein bound to the SH2 domain of Ash-L through its pY site\n",
    "# 30 instances of the EGFR protein dimers\n",
    "egfr_initial = KappaInitialCondition(\n",
    "    canonical_protein=Protein(Protoform(\"P00533\")),\n",
    "    canonical_count=150,\n",
    "    stateful_components=[\n",
    "        (kinase, 75),\n",
    "        (Residue(\"Y\", 1092, state=State(\"phosphorylation\", True)), 30),\n",
    "        (Site(name=\"pY\", bound_to=[\n",
    "            RegionActor(protoform=grb2, region=Region(name=\"SH2\"), variant_name=\"Ash-L\")\n",
    "        ]), 30)\n",
    "    ],\n",
    "    bounds=[\n",
    "        (Protein(Protoform(\"P00533\")), 30),\n",
    "    ])"
   ]
  },
  {
   "cell_type": "code",
   "execution_count": 19,
   "metadata": {},
   "outputs": [],
   "source": [
    "# The following initial conditions specify:\n",
    "# 200 molecules of the canonical Ash-L (no PTMs, bounds or activity)\n",
    "# 40 molecules of Ash-L bound to the pY site of SHC1\n",
    "ashl_initial = KappaInitialCondition(\n",
    "    canonical_protein=Protein(Protoform(\"P62993\"), \"Ash-L\"),\n",
    "    canonical_count=200,\n",
    "    stateful_components=[\n",
    "        (Region(name=\"SH2\", bound_to=[shc1_pY]), 40)\n",
    "    ])\n",
    "\n",
    "# 20 mutant molecules S90D\n",
    "# 10 molecules of S90D bound to the pY site of EGFR\n",
    "s90d_initial = KappaInitialCondition(\n",
    "    canonical_protein=Protein(Protoform(\"P62993\"), \"S90D\"),\n",
    "    canonical_count=20,\n",
    "    stateful_components=[\n",
    "        (Region(name=\"SH2\", bound_to=[egfr_pY]), 10)\n",
    "    ])\n",
    "\n",
    "# 70 molecules of the splice variant Grb3\n",
    "grb3_initial = KappaInitialCondition(\n",
    "    canonical_protein=Protein(Protoform(\"P62993\"), \"Grb3\"),\n",
    "    canonical_count=70)"
   ]
  },
  {
   "cell_type": "code",
   "execution_count": 20,
   "metadata": {
    "collapsed": true
   },
   "outputs": [],
   "source": [
    "# The following initial condition specifies:\n",
    "# 100 molecules of the canonical SHC1 protein (no PTMs, bounds or activity)\n",
    "# 30 molecules of the SHC1 protein phosphorylated at Y317\n",
    "shc1_initial = KappaInitialCondition(\n",
    "    canonical_protein=Protein(Protoform(\"P29353\")),\n",
    "    canonical_count=100,\n",
    "    stateful_components=[\n",
    "        (Residue(\"Y\", 317, state=State(\"phosphorylation\", True)), 30)\n",
    "    ],\n",
    ")"
   ]
  },
  {
   "cell_type": "code",
   "execution_count": 21,
   "metadata": {
    "scrolled": false
   },
   "outputs": [
    {
     "name": "stdout",
     "output_type": "stream",
     "text": [
      "{'P00533': [{'P00533_P00533_1': None}, 'EGFR'], 'P62993': [{'P62993': 'Ash-L', 'P629931': 'Grb3', 'P629932': 'S90D'}, 'GRB2'], 'P29353': [{'P29353': None}, 'SHC1']}\n",
      "Agent UP:  P00533\n",
      "\t Name:  EGFR\n",
      "\t Variants:  {'P00533_P00533_1': 'variant_1'}\n",
      "\t Kami sites:  {}\n",
      "\t Direct bnd sites:  {'is_bnd': ('site', [])}\n",
      "\t Region bnd sites:  {}\n",
      "Agent UP:  P62993\n",
      "\t Name:  GRB2\n",
      "\t Variants:  {'P62993': 'Ash_L', 'P629931': 'Grb3', 'P629932': 'S90D'}\n",
      "\t Kami sites:  {'P62993_site_New site2': 'Ash_L_site_New_site', 'P62993_site_New site1': 'Grb3_site_New_site', 'P62993_site_New site': 'S90D_site_New_site'}\n",
      "\t Direct bnd sites:  {}\n",
      "\t Region bnd sites:  {('region_21', 'P62993_region_SH2_bnd_P29353_site_pY_P62993_region_SH2_bnd_P29353_site_pY_1'): ('Ash_L_SH2_site', ['region_2', 'P29353_site_pY']), ('region_2', 'P62993_region_SH2_bnd_P29353_site_pY_P62993_region_SH2_bnd_P29353_site_pY_1'): ('S90D_SH2_site', ['P29353_site_pY', 'region_21'])}\n",
      "Agent UP:  P29353\n",
      "\t Name:  SHC1\n",
      "\t Variants:  {'P29353': 'variant_1'}\n",
      "\t Kami sites:  {'P29353_site_pY': 'site_pY'}\n",
      "\t Direct bnd sites:  {}\n",
      "\t Region bnd sites:  {}\n",
      "YEEEY\n"
     ]
    }
   ],
   "source": [
    "kappa = generate_kappa(\n",
    "    grb_variants_model, \n",
    "    initial_conditions=[\n",
    "        egfr_initial,\n",
    "        ashl_initial,\n",
    "        s90d_initial,\n",
    "        grb3_initial,\n",
    "        shc1_initial\n",
    "    ]\n",
    ")"
   ]
  },
  {
   "cell_type": "code",
   "execution_count": 22,
   "metadata": {},
   "outputs": [
    {
     "name": "stdout",
     "output_type": "stream",
     "text": [
      "// Automatically generated from KAMI-model 'EGFR_signalling_GRB2' 13-02-2020 13:46:50\n",
      "\n",
      "// Signatures\n",
      "\n",
      "%agent: EGFR(activity{0 1},phosphorylation{0 1},('site', []))\n",
      "%agent: GRB2(variant{Ash_L Grb3 S90D},Ash_L_site_New_site,Grb3_site_New_site,S90D_site_New_site,('Ash_L_SH2_site', ['region_2', 'P29353_site_pY']),('S90D_SH2_site', ['P29353_site_pY', 'region_21']))\n",
      "%agent: SHC1(phosphorylation{0 1},site_pY)\n",
      "\n",
      "// Rules \n",
      "\n",
      "'rule 1' EGFR(activity{1}), EGFR(phosphorylation) -> EGFR(activity{1}), EGFR(phosphorylation{1})  @ 1  //Phosphorylation of EGFR homodimer\n",
      "\n",
      "'rule 2' GRB2(variant{S90D},S90D_SH2_site[.]), SHC1(phosphorylation{1},site_pY[.]) -> GRB2(variant{S90D},S90D_SH2_site[1]), SHC1(phosphorylation{1},site_pY[1])\n",
      "\n",
      "'rule 3' GRB2(variant{Grb3},), SHC1(phosphorylation{1},site_pY[.]) -> GRB2(variant{Grb3},), SHC1(phosphorylation{1},site_pY[1])\n",
      "\n",
      "'rule 4' GRB2(variant{Ash_L},Ash_L_SH2_site[.]), SHC1(phosphorylation{1},site_pY[.]) -> GRB2(variant{Ash_L},Ash_L_SH2_site[1]), SHC1(phosphorylation{1},site_pY[1])\n",
      "\n",
      "'rule 5' GRB2(variant{S90D},S90D_SH2_site[.]), SHC1(phosphorylation{1},site_pY[.]) -> GRB2(variant{S90D},S90D_SH2_site[1]), SHC1(phosphorylation{1},site_pY[1])\n",
      "\n",
      "'rule 6' GRB2(variant{Grb3},), SHC1(phosphorylation{1},site_pY[.]) -> GRB2(variant{Grb3},), SHC1(phosphorylation{1},site_pY[1])\n",
      "\n",
      "'rule 7' GRB2(variant{Ash_L},Ash_L_SH2_site[.]), SHC1(phosphorylation{1},site_pY[.]) -> GRB2(variant{Ash_L},Ash_L_SH2_site[1]), SHC1(phosphorylation{1},site_pY[1])\n",
      "\n",
      "%init: 150 EGFR()\n",
      "%init: 75 EGFR(activity{1})\n",
      "%init: 30 EGFR(phosphorylation{1})\n",
      "%init: 200 GRB2(variant{Ash_L})\n",
      "%init: 20 GRB2(variant{S90D})\n",
      "%init: 70 GRB2(variant{Grb3})\n",
      "%init: 100 SHC1()\n",
      "%init: 30 SHC1(phosphorylation{1})\n"
     ]
    }
   ],
   "source": [
    "print(kappa)"
   ]
  },
  {
   "cell_type": "code",
   "execution_count": 92,
   "metadata": {
    "collapsed": true
   },
   "outputs": [],
   "source": [
    "from regraph.utils import keys_by_value\n",
    "\n",
    "from kami.aggregation.identifiers import EntityIdentifier\n",
    "\n",
    "\n",
    "def _normalize_variant_name(name):\n",
    "    return name.replace(\" \", \"_\").replace(\n",
    "        \",\", \"_\").replace(\"/\", \"_\").replace(\"-\", \"_\")\n",
    "\n",
    "def _generate_isoforms_from_corpus(corpus, definition_rules):\n",
    "    \"\"\"Generate agents: an agent per protoform (gene).\"\"\"\n",
    "    isoforms = {}\n",
    "    for protoform in corpus.protoforms():\n",
    "        uniprot_id = corpus.get_uniprot(protoform)\n",
    "        hgnc_symbol = corpus.get_hgnc_symbol(protoform)\n",
    "\n",
    "        isoforms[uniprot_id] = dict()\n",
    "        isoforms[uniprot_id][\"hgnc_symbol\"] = hgnc_symbol\n",
    "        isoforms[uniprot_id][\"ref_node\"] = protoform\n",
    "        isoforms[uniprot_id][\"variants\"] = dict()\n",
    "\n",
    "        for rule, instance in definition_rules:\n",
    "            # If the protoform will be instantiated\n",
    "            if protoform in instance.values():\n",
    "                lhs_protoform = keys_by_value(instance, protoform)[0]\n",
    "                p_protoforms = keys_by_value(rule.p_lhs, lhs_protoform)\n",
    "                # Retrieve variants and their names from the intantiation rule\n",
    "                variants = []\n",
    "                for p_protoform in p_protoforms:\n",
    "                    rhs_node_attrs = rule.rhs.get_node(rule.p_rhs[p_protoform])\n",
    "                    variant_name = None\n",
    "                    if \"variant_name\" in rhs_node_attrs:\n",
    "                        variant_name = _normalize_variant_name(list(rhs_node_attrs[\"variant_name\"])[0])\n",
    "                    variants.append(variant_name)\n",
    "                i = 1\n",
    "                for variant in variants:\n",
    "                    if variant is None:\n",
    "                        isoforms[uniprot_id][\"variants\"][\n",
    "                            \"variant_{}\".format(i)] = None\n",
    "                        i += 1\n",
    "                    else:\n",
    "                        isoforms[uniprot_id][\"variants\"][_normalize_variant_name(variant)] = None\n",
    "            else:\n",
    "                isoforms[uniprot_id][\"variants\"][\"variant_1\"] = protoform\n",
    "    return isoforms\n",
    "\n",
    "\n",
    "def _generate_isoforms_from_model(model):\n",
    "    \"\"\"Generate agents: an agent per protoform and its variants.\"\"\"\n",
    "    isoforms = {}\n",
    "    for protein in model.proteins():\n",
    "        uniprot_id = model.get_uniprot(protein)\n",
    "        variant_name = model.get_variant_name(protein)\n",
    "        hgnc_symbol = model.get_hgnc_symbol(protein)\n",
    "        if uniprot_id in isoforms.keys():\n",
    "            isoforms[uniprot_id][\"hgnc_symbol\"] = hgnc_symbol\n",
    "            if variant_name is None:\n",
    "                variant_name = \"variant_{}\".format(\n",
    "                    len(isoforms[uniprot_id][\"variants\"]) + 1)\n",
    "            isoforms[uniprot_id][\"variants\"][_normalize_variant_name(variant_name)] = protein\n",
    "        else:\n",
    "            isoforms[uniprot_id] = dict()\n",
    "            isoforms[uniprot_id][\"ref_node\"] = None\n",
    "            isoforms[uniprot_id][\"hgnc_symbol\"] = hgnc_symbol\n",
    "            if variant_name is None:\n",
    "                variant_name = \"variant_1\"\n",
    "            isoforms[uniprot_id][\"variants\"] = {\n",
    "                _normalize_variant_name(variant_name): protein\n",
    "            }\n",
    "    return isoforms\n",
    "\n",
    "def _generate_agents(identifier, isoforms):\n",
    "    # Generate agent names and variants\n",
    "    agents = {}\n",
    "    for isoform, data in isoforms.items():\n",
    "        if data[\"hgnc_symbol\"] is not None:\n",
    "            agent_name = data[\"hgnc_symbol\"]\n",
    "        else:\n",
    "            agent_name = isoform\n",
    "        agents[isoform] = {}\n",
    "        agents[isoform][\"agent_name\"] = agent_name\n",
    "        agents[isoform][\"ref_node\"] = data[\"ref_node\"]\n",
    "        agents[isoform][\"variants\"] = data[\"variants\"]\n",
    "\n",
    "        # Generate stateful sites\n",
    "        agents[isoform][\"stateful_sites\"] = {}\n",
    "        agents[isoform][\"kami_sites\"] = {}\n",
    "        agents[isoform][\"direct_bnd_sites\"] = {}\n",
    "        agents[isoform][\"region_bnd_sites\"] = {}\n",
    "        for protein, variant_name in data[\"variants\"].items():\n",
    "            # Find stateful sites (a Kappa site per every distinct state)\n",
    "            prefix = \"\"\n",
    "            if len(data[\"variants\"]) > 1:\n",
    "                prefix = variant_name + \"_\"\n",
    "                \n",
    "            _generate_stateful_sites()\n",
    "            states = identifier.get_attached_states(protein)\n",
    "            for s in states:\n",
    "                state_name = list(get_node(identifier.graph, s)[\"name\"])[0]\n",
    "                site_name = generate_new_element_id(\n",
    "                    agents[isoform][\"stateful_sites\"].values(),\n",
    "                    prefix + \"{}\".format(state_name))\n",
    "                agents[isoform][\"stateful_sites\"][s] = site_name\n",
    "\n",
    "    \n",
    "    # Generate direct binding sites\n",
    "    # Generate binding through kami sites\n",
    "    # Generate binding through kami regions\n",
    "    return agents\n",
    "\n",
    "def generate_from_corpus(corpus, definitions,\n",
    "                         initial_conditions=None,\n",
    "                         default_concentation=100,\n",
    "                         default_bnd_rate=None,\n",
    "                         default_brk_rate=None,\n",
    "                         default_mod_rate=None):\n",
    "    \"\"\"Generate Kappa script from KAMI corpus.\"\"\"\n",
    "    # Generate instantiation rules from definitions\n",
    "    definition_rules = []\n",
    "    for i, d in enumerate(definitions):\n",
    "        instantiation_rule, instance = d.generate_rule(\n",
    "            corpus.action_graph, corpus.get_action_graph_typing())\n",
    "        definition_rules.append((instantiation_rule, instance))\n",
    "    \n",
    "    # Create an entity identified from the action graph\n",
    "    identifier = EntityIdentifier(\n",
    "        corpus.action_graph,\n",
    "        corpus.get_action_graph_typing(),\n",
    "        immediate=False)\n",
    "    print(_generate_agents(\n",
    "        identifier,\n",
    "        _generate_isoforms_from_corpus(corpus, definition_rules)))\n",
    "\n",
    "\n",
    "def generate_from_model(model, initial_conditions=None,\n",
    "                        default_concentation=100):\n",
    "    \"\"\"Generate Kappa script from KAMI model.\"\"\"\n",
    "    if initial_conditions is None:\n",
    "        initial_conditions = []\n",
    "\n",
    "    default_bnd_rate = None\n",
    "    if model.default_bnd_rate is not None:\n",
    "        default_bnd_rate = model.default_bnd_rate\n",
    "\n",
    "    default_brk_rate = None\n",
    "    if model.default_brk_rate is not None:\n",
    "        default_brk_rate = model.default_brk_rate\n",
    "\n",
    "    default_mod_rate = None\n",
    "    if model.default_mod_rate is not None:\n",
    "        default_mod_rate = model.default_mod_rate\n",
    "        \n",
    "    # Create an entity identified from the action graph\n",
    "    identifier = EntityIdentifier(\n",
    "        model.action_graph,\n",
    "        model.get_action_graph_typing(),\n",
    "        immediate=False)\n",
    "\n",
    "    print(_generate_agents(\n",
    "        identifier,\n",
    "        _generate_isoforms_from_model(model)))"
   ]
  },
  {
   "cell_type": "code",
   "execution_count": 93,
   "metadata": {},
   "outputs": [
    {
     "ename": "GraphError",
     "evalue": "Node 'variant_1' does not exist in the graph",
     "output_type": "error",
     "traceback": [
      "\u001b[0;31m---------------------------------------------------------------------------\u001b[0m",
      "\u001b[0;31mGraphError\u001b[0m                                Traceback (most recent call last)",
      "\u001b[0;32m<ipython-input-93-887f361d4466>\u001b[0m in \u001b[0;36m<module>\u001b[0;34m()\u001b[0m\n\u001b[0;32m----> 1\u001b[0;31m \u001b[0mgenerate_from_corpus\u001b[0m\u001b[0;34m(\u001b[0m\u001b[0mcorpus\u001b[0m\u001b[0;34m,\u001b[0m \u001b[0;34m[\u001b[0m\u001b[0mgrb2_definition\u001b[0m\u001b[0;34m]\u001b[0m\u001b[0;34m)\u001b[0m\u001b[0;34m\u001b[0m\u001b[0;34m\u001b[0m\u001b[0m\n\u001b[0m",
      "\u001b[0;32m<ipython-input-92-9c80128ae999>\u001b[0m in \u001b[0;36mgenerate_from_corpus\u001b[0;34m(corpus, definitions, initial_conditions, default_concentation, default_bnd_rate, default_brk_rate, default_mod_rate)\u001b[0m\n\u001b[1;32m    128\u001b[0m     print(_generate_agents(\n\u001b[1;32m    129\u001b[0m         \u001b[0midentifier\u001b[0m\u001b[0;34m,\u001b[0m\u001b[0;34m\u001b[0m\u001b[0;34m\u001b[0m\u001b[0m\n\u001b[0;32m--> 130\u001b[0;31m         _generate_isoforms_from_corpus(corpus, definition_rules)))\n\u001b[0m\u001b[1;32m    131\u001b[0m \u001b[0;34m\u001b[0m\u001b[0m\n\u001b[1;32m    132\u001b[0m \u001b[0;34m\u001b[0m\u001b[0m\n",
      "\u001b[0;32m<ipython-input-92-9c80128ae999>\u001b[0m in \u001b[0;36m_generate_agents\u001b[0;34m(identifier, isoforms)\u001b[0m\n\u001b[1;32m     93\u001b[0m             \u001b[0;32mif\u001b[0m \u001b[0mlen\u001b[0m\u001b[0;34m(\u001b[0m\u001b[0mdata\u001b[0m\u001b[0;34m[\u001b[0m\u001b[0;34m\"variants\"\u001b[0m\u001b[0;34m]\u001b[0m\u001b[0;34m)\u001b[0m \u001b[0;34m>\u001b[0m \u001b[0;36m1\u001b[0m\u001b[0;34m:\u001b[0m\u001b[0;34m\u001b[0m\u001b[0;34m\u001b[0m\u001b[0m\n\u001b[1;32m     94\u001b[0m                 \u001b[0mprefix\u001b[0m \u001b[0;34m=\u001b[0m \u001b[0mvariant_name\u001b[0m \u001b[0;34m+\u001b[0m \u001b[0;34m\"_\"\u001b[0m\u001b[0;34m\u001b[0m\u001b[0;34m\u001b[0m\u001b[0m\n\u001b[0;32m---> 95\u001b[0;31m             \u001b[0mstates\u001b[0m \u001b[0;34m=\u001b[0m \u001b[0midentifier\u001b[0m\u001b[0;34m.\u001b[0m\u001b[0mget_attached_states\u001b[0m\u001b[0;34m(\u001b[0m\u001b[0mprotein\u001b[0m\u001b[0;34m)\u001b[0m\u001b[0;34m\u001b[0m\u001b[0;34m\u001b[0m\u001b[0m\n\u001b[0m\u001b[1;32m     96\u001b[0m             \u001b[0;32mfor\u001b[0m \u001b[0ms\u001b[0m \u001b[0;32min\u001b[0m \u001b[0mstates\u001b[0m\u001b[0;34m:\u001b[0m\u001b[0;34m\u001b[0m\u001b[0;34m\u001b[0m\u001b[0m\n\u001b[1;32m     97\u001b[0m                 \u001b[0mstate_name\u001b[0m \u001b[0;34m=\u001b[0m \u001b[0mlist\u001b[0m\u001b[0;34m(\u001b[0m\u001b[0mget_node\u001b[0m\u001b[0;34m(\u001b[0m\u001b[0midentifier\u001b[0m\u001b[0;34m.\u001b[0m\u001b[0mgraph\u001b[0m\u001b[0;34m,\u001b[0m \u001b[0ms\u001b[0m\u001b[0;34m)\u001b[0m\u001b[0;34m[\u001b[0m\u001b[0;34m\"name\"\u001b[0m\u001b[0;34m]\u001b[0m\u001b[0;34m)\u001b[0m\u001b[0;34m[\u001b[0m\u001b[0;36m0\u001b[0m\u001b[0;34m]\u001b[0m\u001b[0;34m\u001b[0m\u001b[0;34m\u001b[0m\u001b[0m\n",
      "\u001b[0;32m~/anaconda3/lib/python3.6/site-packages/kami-1.2-py3.6.egg/kami/aggregation/identifiers.py\u001b[0m in \u001b[0;36mget_attached_states\u001b[0;34m(self, node_id)\u001b[0m\n\u001b[1;32m    245\u001b[0m             \u001b[0;32mreturn\u001b[0m \u001b[0mself\u001b[0m\u001b[0;34m.\u001b[0m\u001b[0mpredecessors_of_type\u001b[0m\u001b[0;34m(\u001b[0m\u001b[0mnode_id\u001b[0m\u001b[0;34m,\u001b[0m \u001b[0;34m\"state\"\u001b[0m\u001b[0;34m)\u001b[0m\u001b[0;34m\u001b[0m\u001b[0;34m\u001b[0m\u001b[0m\n\u001b[1;32m    246\u001b[0m         \u001b[0;32melse\u001b[0m\u001b[0;34m:\u001b[0m\u001b[0;34m\u001b[0m\u001b[0;34m\u001b[0m\u001b[0m\n\u001b[0;32m--> 247\u001b[0;31m             \u001b[0;32mreturn\u001b[0m \u001b[0mself\u001b[0m\u001b[0;34m.\u001b[0m\u001b[0mancestors_of_type\u001b[0m\u001b[0;34m(\u001b[0m\u001b[0mnode_id\u001b[0m\u001b[0;34m,\u001b[0m \u001b[0;34m\"state\"\u001b[0m\u001b[0;34m)\u001b[0m\u001b[0;34m\u001b[0m\u001b[0;34m\u001b[0m\u001b[0m\n\u001b[0m\u001b[1;32m    248\u001b[0m \u001b[0;34m\u001b[0m\u001b[0m\n\u001b[1;32m    249\u001b[0m     \u001b[0;32mdef\u001b[0m \u001b[0midentify_gene\u001b[0m\u001b[0;34m(\u001b[0m\u001b[0mself\u001b[0m\u001b[0;34m,\u001b[0m \u001b[0mprotoform\u001b[0m\u001b[0;34m)\u001b[0m\u001b[0;34m:\u001b[0m\u001b[0;34m\u001b[0m\u001b[0;34m\u001b[0m\u001b[0m\n",
      "\u001b[0;32m~/anaconda3/lib/python3.6/site-packages/kami-1.2-py3.6.egg/kami/aggregation/identifiers.py\u001b[0m in \u001b[0;36mancestors_of_type\u001b[0;34m(self, node_id, meta_type)\u001b[0m\n\u001b[1;32m    162\u001b[0m \u001b[0;34m\u001b[0m\u001b[0m\n\u001b[1;32m    163\u001b[0m     \u001b[0;32mdef\u001b[0m \u001b[0mancestors_of_type\u001b[0m\u001b[0;34m(\u001b[0m\u001b[0mself\u001b[0m\u001b[0;34m,\u001b[0m \u001b[0mnode_id\u001b[0m\u001b[0;34m,\u001b[0m \u001b[0mmeta_type\u001b[0m\u001b[0;34m)\u001b[0m\u001b[0;34m:\u001b[0m\u001b[0;34m\u001b[0m\u001b[0;34m\u001b[0m\u001b[0m\n\u001b[0;32m--> 164\u001b[0;31m         \u001b[0mancestors\u001b[0m \u001b[0;34m=\u001b[0m \u001b[0mself\u001b[0m\u001b[0;34m.\u001b[0m\u001b[0mpredecessors_of_type\u001b[0m\u001b[0;34m(\u001b[0m\u001b[0mnode_id\u001b[0m\u001b[0;34m,\u001b[0m \u001b[0mmeta_type\u001b[0m\u001b[0;34m)\u001b[0m\u001b[0;34m\u001b[0m\u001b[0;34m\u001b[0m\u001b[0m\n\u001b[0m\u001b[1;32m    165\u001b[0m         \u001b[0mvisited\u001b[0m \u001b[0;34m=\u001b[0m \u001b[0mset\u001b[0m\u001b[0;34m(\u001b[0m\u001b[0;34m)\u001b[0m\u001b[0;34m\u001b[0m\u001b[0;34m\u001b[0m\u001b[0m\n\u001b[1;32m    166\u001b[0m         next_level_to_visit = set([\n",
      "\u001b[0;32m~/anaconda3/lib/python3.6/site-packages/kami-1.2-py3.6.egg/kami/aggregation/identifiers.py\u001b[0m in \u001b[0;36mpredecessors_of_type\u001b[0;34m(self, node_id, meta_type)\u001b[0m\n\u001b[1;32m    149\u001b[0m     \u001b[0;32mdef\u001b[0m \u001b[0mpredecessors_of_type\u001b[0m\u001b[0;34m(\u001b[0m\u001b[0mself\u001b[0m\u001b[0;34m,\u001b[0m \u001b[0mnode_id\u001b[0m\u001b[0;34m,\u001b[0m \u001b[0mmeta_type\u001b[0m\u001b[0;34m)\u001b[0m\u001b[0;34m:\u001b[0m\u001b[0;34m\u001b[0m\u001b[0;34m\u001b[0m\u001b[0m\n\u001b[1;32m    150\u001b[0m         \u001b[0mpreds\u001b[0m \u001b[0;34m=\u001b[0m \u001b[0;34m[\u001b[0m\u001b[0;34m]\u001b[0m\u001b[0;34m\u001b[0m\u001b[0;34m\u001b[0m\u001b[0m\n\u001b[0;32m--> 151\u001b[0;31m         \u001b[0;32mfor\u001b[0m \u001b[0mpred\u001b[0m \u001b[0;32min\u001b[0m \u001b[0mself\u001b[0m\u001b[0;34m.\u001b[0m\u001b[0mgraph\u001b[0m\u001b[0;34m.\u001b[0m\u001b[0mpredecessors\u001b[0m\u001b[0;34m(\u001b[0m\u001b[0mnode_id\u001b[0m\u001b[0;34m)\u001b[0m\u001b[0;34m:\u001b[0m\u001b[0;34m\u001b[0m\u001b[0;34m\u001b[0m\u001b[0m\n\u001b[0m\u001b[1;32m    152\u001b[0m             \u001b[0;32mif\u001b[0m \u001b[0mself\u001b[0m\u001b[0;34m.\u001b[0m\u001b[0mmeta_typing\u001b[0m\u001b[0;34m[\u001b[0m\u001b[0mpred\u001b[0m\u001b[0;34m]\u001b[0m \u001b[0;34m==\u001b[0m \u001b[0mmeta_type\u001b[0m\u001b[0;34m:\u001b[0m\u001b[0;34m\u001b[0m\u001b[0;34m\u001b[0m\u001b[0m\n\u001b[1;32m    153\u001b[0m                 \u001b[0mpreds\u001b[0m\u001b[0;34m.\u001b[0m\u001b[0mappend\u001b[0m\u001b[0;34m(\u001b[0m\u001b[0mpred\u001b[0m\u001b[0;34m)\u001b[0m\u001b[0;34m\u001b[0m\u001b[0;34m\u001b[0m\u001b[0m\n",
      "\u001b[0;32m~/anaconda3/lib/python3.6/site-packages/ReGraph-3.0-py3.6.egg/regraph/backends/networkx/graphs.py\u001b[0m in \u001b[0;36mpredecessors\u001b[0;34m(self, node_id)\u001b[0m\n\u001b[1;32m    242\u001b[0m             raise GraphError(\n\u001b[1;32m    243\u001b[0m                 \"Node '{}' does not exist in the graph\".format(\n\u001b[0;32m--> 244\u001b[0;31m                     node_id))\n\u001b[0m\u001b[1;32m    245\u001b[0m \u001b[0;34m\u001b[0m\u001b[0m\n\u001b[1;32m    246\u001b[0m         \u001b[0;32mreturn\u001b[0m \u001b[0mself\u001b[0m\u001b[0;34m.\u001b[0m\u001b[0m_graph\u001b[0m\u001b[0;34m.\u001b[0m\u001b[0mpredecessors\u001b[0m\u001b[0;34m(\u001b[0m\u001b[0mnode_id\u001b[0m\u001b[0;34m)\u001b[0m\u001b[0;34m\u001b[0m\u001b[0;34m\u001b[0m\u001b[0m\n",
      "\u001b[0;31mGraphError\u001b[0m: Node 'variant_1' does not exist in the graph"
     ]
    }
   ],
   "source": [
    "generate_from_corpus(corpus, [grb2_definition])"
   ]
  },
  {
   "cell_type": "code",
   "execution_count": null,
   "metadata": {},
   "outputs": [],
   "source": [
    "generate_from_model(grb_variants_model)"
   ]
  }
 ],
 "metadata": {
  "kernelspec": {
   "display_name": "Python 3",
   "language": "python",
   "name": "python3"
  },
  "language_info": {
   "codemirror_mode": {
    "name": "ipython",
    "version": 3
   },
   "file_extension": ".py",
   "mimetype": "text/x-python",
   "name": "python",
   "nbconvert_exporter": "python",
   "pygments_lexer": "ipython3",
   "version": "3.6.8"
  }
 },
 "nbformat": 4,
 "nbformat_minor": 2
}
